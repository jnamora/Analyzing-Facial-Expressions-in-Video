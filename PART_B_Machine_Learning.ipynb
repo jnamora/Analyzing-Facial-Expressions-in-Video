{
 "cells": [
  {
   "cell_type": "markdown",
   "metadata": {
    "collapsed": false
   },
   "source": [
    "##### 0. importing libraries that will be used"
   ]
  },
  {
   "cell_type": "code",
   "execution_count": 50,
   "metadata": {
    "ExecuteTime": {
     "end_time": "2023-12-22T16:26:01.954205400Z",
     "start_time": "2023-12-22T16:26:01.396825700Z"
    },
    "collapsed": false
   },
   "outputs": [],
   "source": [
    "import numpy as np\n",
    "from sklearn.neighbors import KNeighborsClassifier\n",
    "from sklearn.model_selection import RepeatedStratifiedKFold\n",
    "from sklearn.metrics import confusion_matrix, precision_score, recall_score, f1_score\n",
    "import pandas as pd\n",
    "import matplotlib.pyplot as plt\n",
    "from sklearn import datasets\n",
    "from sklearn.neural_network import MLPClassifier\n",
    "from sklearn.model_selection import train_test_split"
   ]
  },
  {
   "cell_type": "markdown",
   "metadata": {
    "collapsed": false
   },
   "source": [
    "## 1. Data splitting\n",
    "##### 1.1 Splitting data into train, validation and test sets\n",
    "Using scikit-learn, develop a set of functions for data splitting using two\n",
    "scenarios:"
   ]
  },
  {
   "cell_type": "code",
   "execution_count": 51,
   "metadata": {
    "ExecuteTime": {
     "end_time": "2023-12-22T16:26:02.388014800Z",
     "start_time": "2023-12-22T16:26:01.429740100Z"
    },
    "collapsed": false
   },
   "outputs": [],
   "source": [
    "def split_data_TT(x, y):\n",
    "    \"\"\" Split data into train (70%) and test (30%) sets.\"\"\"\n",
    "    return train_test_split(x, y, test_size=0.3, train_size=0.7)\n",
    "\n",
    "\n",
    "def split_data_TVT(x, y, split_by_groups=None):\n",
    "    \"\"\" Split data into train (40%), validation (30%) and test (30%) sets.\n",
    "    If split_by_groups is not None, then the data is split in a way that\n",
    "    each group is represented in only one set of the partition (We do this\n",
    "    to avoid having the same group in both train, validation test sets).\n",
    "    \"\"\"\n",
    "    if split_by_groups is None:\n",
    "        x_train, x_test, y_train, y_test = train_test_split(x, y, test_size=0.6, train_size=0.4, stratify=y)\n",
    "        x_val, x_test, y_val, y_test = train_test_split(x_test, y_test, test_size=0.5,\n",
    "                                                        train_size=0.5, stratify=y_test)\n",
    "        return x_train, x_val, x_test, y_train, y_val, y_test\n",
    "    else:\n",
    "        # get the unique values of the groups and permute them randomly\n",
    "        unique_group_values = split_by_groups.unique()\n",
    "        unique_group_values = np.random.permutation(unique_group_values)\n",
    "\n",
    "        # split the groups into train, validation and test sets and then take\n",
    "        # the corresponding data\n",
    "        train_idx = unique_group_values[:int(0.4 * len(unique_group_values))]\n",
    "        val_idx = unique_group_values[int(0.4 * len(unique_group_values)):int(0.7 * len(unique_group_values))]\n",
    "        test_idx = unique_group_values[int(0.7 * len(unique_group_values)):]\n",
    "\n",
    "        # get the data corresponding to the groups\n",
    "        x_train = x[split_by_groups.isin(train_idx)]\n",
    "        x_val = x[split_by_groups.isin(val_idx)]\n",
    "        x_test = x[split_by_groups.isin(test_idx)]\n",
    "\n",
    "        y_train = y[split_by_groups.isin(train_idx)]\n",
    "        y_val = y[split_by_groups.isin(val_idx)]\n",
    "        y_test = y[split_by_groups.isin(test_idx)]\n",
    "\n",
    "    return x_train, x_val, x_test, y_train, y_val, y_test\n",
    "\n",
    "\n",
    "def split_data_CV(X, y, n_splits=10, n_repeats=10, groups=None):\n",
    "    \"\"\" Split data into 10 splits, using one split as a test set.\n",
    "    70% of the remaining 9 splits is for training and 30% for validation.\n",
    "    Repeat this 10 times to obtain 100 splits in total. If groups is not None,\n",
    "    then the data is split in a way that each group is represented in only one\n",
    "    set of the partition \"\"\"\n",
    "    if groups is None:\n",
    "        rskf = RepeatedStratifiedKFold(n_splits=n_splits, n_repeats=n_repeats)\n",
    "        rskf.get_n_splits(X, y, groups=groups)\n",
    "\n",
    "        folds = []\n",
    "        for train_index, test_index in rskf.split(X, y):\n",
    "            train_idx = np.random.choice(train_index, int(0.7 * len(train_index)), replace=False)\n",
    "            val_idx = np.array([i for i in train_index if i not in train_idx])\n",
    "            folds.append({\n",
    "                'train_X': X[train_idx],\n",
    "                'train_y': y[train_idx],\n",
    "                'val_X': X[val_idx],\n",
    "                'val_y': y[val_idx],\n",
    "                'test_X': X[test_index],\n",
    "                'test_y': y[test_index]\n",
    "            })\n",
    "        return folds\n",
    "    else:\n",
    "        l = groups.unique()\n",
    "        folds = []\n",
    "        for repeat in range(n_repeats):\n",
    "            l = np.random.permutation(l)\n",
    "            splits = np.array_split(l, n_splits)\n",
    "            for i, split in enumerate(splits):\n",
    "                train_val_group = np.concatenate(splits[:i] + splits[i + 1:])\n",
    "                train_group = train_val_group[:int(0.7 * len(train_val_group))]\n",
    "                val_group = train_val_group[int(0.7 * len(train_val_group)):]\n",
    "                test_group = split\n",
    "                train_idx = groups.isin(train_group)\n",
    "                val_idx = groups.isin(val_group)\n",
    "                test_idx = groups.isin(test_group)\n",
    "                folds.append({\n",
    "                    'train_X': X[train_idx],\n",
    "                    'train_y': y[train_idx],\n",
    "                    'val_X': X[val_idx],\n",
    "                    'val_y': y[val_idx],\n",
    "                    'test_X': X[test_idx],\n",
    "                    'test_y': y[test_idx]\n",
    "                })\n",
    "        return folds"
   ]
  },
  {
   "cell_type": "markdown",
   "metadata": {
    "collapsed": false
   },
   "source": [
    "##### 1.2 Accuracy metrics\n",
    "Using scikit-learn, develop a set of functions for calculating accuracy metrics, including the following\n",
    "(https://scikit-learn.org/stable/modules/model_evaluation.html):\n",
    "- 1.2.1. Confusion matrix\n",
    "- 1.2.2. Recall\n",
    "- 1.2.3. Precision\n",
    "- 1.2.4. F1-score\n"
   ]
  },
  {
   "cell_type": "code",
   "execution_count": 52,
   "metadata": {
    "ExecuteTime": {
     "end_time": "2023-12-22T16:26:02.395993400Z",
     "start_time": "2023-12-22T16:26:01.437753200Z"
    },
    "collapsed": false
   },
   "outputs": [],
   "source": [
    "def calculate_accuracy_metrics(y_true, y_pred, print_results=True, write_to_dict=None):\n",
    "    \"\"\" Calculate accuracy metrics (confusion matrix, precision, recall, f1)\n",
    "    and print them (if print_results is True). If write_to_dict is not None,\n",
    "    then the metrics are also written to the dictionary. \"\"\"\n",
    "    cm = confusion_matrix(y_true, y_pred, normalize='all', labels=np.unique(y_true))\n",
    "    prec = precision_score(y_true, y_pred, average='macro', zero_division=0)\n",
    "    rec = recall_score(y_true, y_pred, average='macro')\n",
    "    f1 = f1_score(y_true, y_pred, average='macro')\n",
    "    if print_results:\n",
    "        print(\"Confusion matrix:\\n\")\n",
    "        for row in cm:\n",
    "            print('  '.join('{:.3f}'.format(x) for x in row))\n",
    "        print(f\"Precision: {prec:.2f}, Recall: {rec:.2f}, F1: {f1:.2f}\\n\")\n",
    "    if write_to_dict is not None:\n",
    "        write_to_dict['prec'].append(prec)\n",
    "        write_to_dict['rec'].append(rec)\n",
    "        write_to_dict['f1'].append(f1)\n",
    "        write_to_dict['cm'].append(cm)\n",
    "\n",
    "    return cm, prec, rec, f1\n"
   ]
  },
  {
   "cell_type": "markdown",
   "metadata": {
    "collapsed": false
   },
   "source": [
    "## 2. Initial experiments on Iris dataset\n",
    "Initial experiments with a simple classifier, i.e. k-Nearest Neighbors (kNN)"
   ]
  },
  {
   "cell_type": "code",
   "execution_count": 53,
   "metadata": {
    "ExecuteTime": {
     "end_time": "2023-12-22T16:26:02.406964300Z",
     "start_time": "2023-12-22T16:26:01.461652400Z"
    },
    "collapsed": false
   },
   "outputs": [
    {
     "name": "stdout",
     "output_type": "stream",
     "text": [
      "(150, 4) (150,)\n"
     ]
    }
   ],
   "source": [
    "# load the iris dataset\n",
    "iris = datasets.load_iris()\n",
    "X_iris = iris.data\n",
    "y_iris = iris.target\n",
    "print(X_iris.shape, y_iris.shape)"
   ]
  },
  {
   "cell_type": "code",
   "execution_count": 54,
   "metadata": {
    "ExecuteTime": {
     "end_time": "2023-12-22T16:26:02.589609500Z",
     "start_time": "2023-12-22T16:26:01.501549500Z"
    },
    "collapsed": false
   },
   "outputs": [
    {
     "data": {
      "text/plain": [
       "<matplotlib.collections.PathCollection at 0x18e37063730>"
      ]
     },
     "execution_count": 54,
     "metadata": {},
     "output_type": "execute_result"
    },
    {
     "data": {
      "image/png": "[encoded data removed]",
      "text/plain": [
       "<Figure size 1000x600 with 1 Axes>"
      ]
     },
     "metadata": {},
     "output_type": "display_data"
    }
   ],
   "source": [
    "# scatter plot of the data\n",
    "plt.figure(figsize=(10, 6))\n",
    "plt.scatter(X_iris[:, 2], X_iris[:, 3], c=y_iris, cmap='viridis')"
   ]
  },
  {
   "cell_type": "markdown",
   "metadata": {
    "collapsed": false
   },
   "source": [
    "##### just a helper function, that we will use later to make printing the results easier"
   ]
  },
  {
   "cell_type": "code",
   "execution_count": 55,
   "metadata": {
    "ExecuteTime": {
     "end_time": "2023-12-22T16:26:02.589609500Z",
     "start_time": "2023-12-22T16:26:01.753870700Z"
    },
    "collapsed": false
   },
   "outputs": [],
   "source": [
    "def print_results(metrics_dict):\n",
    "    \"\"\" Print the results of the metrics dictionary in a nice format.\"\"\"\n",
    "    print(\"Average metrics:\")\n",
    "    print(\"          | mean | std\")\n",
    "    print(f\"Precision | {np.mean(metrics_dict['prec']):.2f} | \"\n",
    "          f\"{np.std(metrics_dict['prec']):.2f}\")\n",
    "    print(f\"Recall    | {np.mean(metrics_dict['rec']):.2f} | \"\n",
    "            f\"{np.std(metrics_dict['rec']):.2f}\")\n",
    "    print(f\"F1        | {np.mean(metrics_dict['f1']):.2f} | \"\n",
    "            f\"{np.std(metrics_dict['f1']):.2f}\")\n",
    "\n",
    "    # stack confusion matrices\n",
    "    cm = np.stack(metrics_dict['cm'], axis=2)\n",
    "    mean = np.round(np.mean(cm, axis=2), 3)\n",
    "    std = np.round(np.std(cm, axis=2), 3)\n",
    "    print(\"Normalized confusion matrix mean +- std:\")\n",
    "    # write the mean and std as a matrix with mean +- std\n",
    "    for i in range(mean.shape[0]):\n",
    "        for j in range(mean.shape[1]):\n",
    "            print(f\"{mean[i, j]:.3f} +- {std[i, j]:.3f} | \", end='')\n",
    "        print()"
   ]
  },
  {
   "cell_type": "markdown",
   "metadata": {
    "collapsed": false
   },
   "source": [
    "##### 2.1.1 and 2.1.2\n",
    "We do both exercise together, doing tirst \"train only\" for both, then \"TVT\" for both and finally \"CV\" for both.\n"
   ]
  },
  {
   "cell_type": "markdown",
   "metadata": {
    "collapsed": false
   },
   "source": [
    "#### Train only"
   ]
  },
  {
   "cell_type": "code",
   "execution_count": 56,
   "metadata": {
    "ExecuteTime": {
     "end_time": "2023-12-22T16:26:02.619529200Z",
     "start_time": "2023-12-22T16:26:01.766840200Z"
    },
    "collapsed": false
   },
   "outputs": [],
   "source": [
    "def train_only(X, y, k_values):\n",
    "    \"\"\" Train the kNN classifier on all data and print the results. \"\"\"\n",
    "    print(\"TRAIN ONLY\")\n",
    "    accuracy_metrics_dict  = {'prec': [], 'rec': [], 'f1': [], 'cm': []}\n",
    "    print(f\"Trying different k values: {k_values} on all data\")\n",
    "    print(\" k | precision\")\n",
    "    for k in k_values:\n",
    "        knn = KNeighborsClassifier(n_neighbors=k)\n",
    "        # train it on all data\n",
    "        model = knn.fit(X, y)\n",
    "        y_pred = model.predict(X)\n",
    "        _, precision, _, _ = calculate_accuracy_metrics(y, y_pred, print_results=False, write_to_dict=accuracy_metrics_dict)\n",
    "        print(f\"{k:2} | {precision:.3f}\")\n",
    "    return accuracy_metrics_dict"
   ]
  },
  {
   "cell_type": "code",
   "execution_count": 57,
   "metadata": {
    "ExecuteTime": {
     "end_time": "2023-12-22T16:26:02.620490Z",
     "start_time": "2023-12-22T16:26:01.780798200Z"
    },
    "collapsed": false
   },
   "outputs": [
    {
     "name": "stdout",
     "output_type": "stream",
     "text": [
      "TRAIN ONLY\n",
      "Trying different k values: [1] on all data\n",
      " k | precision\n",
      " 1 | 1.000\n"
     ]
    }
   ],
   "source": [
    "# k = 1\n",
    "_ = train_only(X_iris, y_iris, [1])"
   ]
  },
  {
   "cell_type": "code",
   "execution_count": 58,
   "metadata": {
    "ExecuteTime": {
     "end_time": "2023-12-22T16:26:02.749184400Z",
     "start_time": "2023-12-22T16:26:01.809722900Z"
    },
    "collapsed": false
   },
   "outputs": [
    {
     "name": "stdout",
     "output_type": "stream",
     "text": [
      "TRAIN ONLY\n",
      "Trying different k values: [1, 3, 5, 7, 9, 11, 13, 15] on all data\n",
      " k | precision\n",
      " 1 | 1.000\n",
      " 3 | 0.960\n",
      " 5 | 0.967\n",
      " 7 | 0.974\n",
      " 9 | 0.980\n",
      "11 | 0.973\n",
      "13 | 0.980\n",
      "15 | 0.987\n"
     ]
    }
   ],
   "source": [
    "# k in range {1, 3, ..., 15}\n",
    "_ = train_only(X_iris, y_iris, list(range(1, 16, 2)))"
   ]
  },
  {
   "cell_type": "markdown",
   "metadata": {
    "collapsed": false
   },
   "source": [
    "This is a helper function that fids the best k value for a given dataset and prints the results."
   ]
  },
  {
   "cell_type": "code",
   "execution_count": 59,
   "metadata": {
    "ExecuteTime": {
     "end_time": "2023-12-22T16:26:02.750182400Z",
     "start_time": "2023-12-22T16:26:01.918429900Z"
    },
    "collapsed": false
   },
   "outputs": [],
   "source": [
    "def pick_best_k(x_train, x_val, y_train, y_val, k_values, show=True):\n",
    "    \"\"\" function that picks the best k value based on validation set \"\"\"\n",
    "    best_f1 = -1\n",
    "    best_k = None\n",
    "    k_scores = []\n",
    "\n",
    "    for i_k, k in enumerate(k_values):\n",
    "        # fit the model on training set\n",
    "        knn = KNeighborsClassifier(n_neighbors=k)\n",
    "        model = knn.fit(x_train, y_train)\n",
    "\n",
    "        # predict on validation set and calculate precision\n",
    "        y_val_pred = model.predict(x_val)\n",
    "        _, _, _, f1 = calculate_accuracy_metrics(y_val, y_val_pred, print_results=False)\n",
    "        k_scores.append(f1)\n",
    "\n",
    "        # save the k value if it's the best so far\n",
    "        if f1 > best_f1:\n",
    "            best_f1 = f1\n",
    "            best_k = k\n",
    "\n",
    "    # show results and return best k\n",
    "    if show:\n",
    "        print(f\"best k chosen on validation set: {best_k} (f1: {best_f1:.3f})\")\n",
    "    return best_k, k_scores"
   ]
  },
  {
   "cell_type": "markdown",
   "metadata": {
    "collapsed": false
   },
   "source": [
    "#### Train-validation-test\n",
    "in case where k=[1] it is equal as Train-Test split"
   ]
  },
  {
   "cell_type": "code",
   "execution_count": 60,
   "metadata": {
    "ExecuteTime": {
     "end_time": "2023-12-22T16:26:02.776113300Z",
     "start_time": "2023-12-22T16:26:01.932393100Z"
    },
    "collapsed": false
   },
   "outputs": [],
   "source": [
    "def train_validation_test(X, y, k_values):\n",
    "    \"\"\" Find the best k on the validation data and train the model with that k as a parameter. \"\"\"\n",
    "    print(\"TRAIN-VALIDATION-TEST\")\n",
    "\n",
    "    accuracy_metrics_dict = {'prec': [], 'rec': [], 'f1': [], 'cm': []}\n",
    "    x_train, x_val, x_test, y_train, y_val, y_test = split_data_TVT(X, y)\n",
    "\n",
    "    best_k, _ = pick_best_k(x_train, x_val, y_train, y_val, k_values)\n",
    "\n",
    "    knn = KNeighborsClassifier(n_neighbors=best_k)\n",
    "\n",
    "    # now train the best model on both train and validation data\n",
    "    x_train = np.vstack((x_train, x_val))\n",
    "    y_train = np.hstack((y_train, y_val))\n",
    "    model = knn.fit(x_train, y_train)\n",
    "\n",
    "    print(\"\\nprecision on test set, using k chosen on validation set\")\n",
    "    y_test_pred = model.predict(x_test)\n",
    "    calculate_accuracy_metrics(y_test, y_test_pred, write_to_dict=accuracy_metrics_dict)\n",
    "    return accuracy_metrics_dict"
   ]
  },
  {
   "cell_type": "code",
   "execution_count": 61,
   "metadata": {
    "ExecuteTime": {
     "end_time": "2023-12-22T16:26:02.776113300Z",
     "start_time": "2023-12-22T16:26:01.954205400Z"
    },
    "collapsed": false
   },
   "outputs": [
    {
     "name": "stdout",
     "output_type": "stream",
     "text": [
      "TRAIN-VALIDATION-TEST\n",
      "best k chosen on validation set: 1 (f1: 0.889)\n",
      "\n",
      "precision on test set, using k chosen on validation set\n",
      "Confusion matrix:\n",
      "\n",
      "0.333  0.000  0.000\n",
      "0.000  0.333  0.000\n",
      "0.000  0.000  0.333\n",
      "Precision: 1.00, Recall: 1.00, F1: 1.00\n",
      "\n"
     ]
    }
   ],
   "source": [
    "_ = train_validation_test(X_iris, y_iris, [1])"
   ]
  },
  {
   "cell_type": "code",
   "execution_count": 62,
   "metadata": {
    "ExecuteTime": {
     "end_time": "2023-12-22T16:26:02.779128100Z",
     "start_time": "2023-12-22T16:26:01.989086700Z"
    },
    "collapsed": false
   },
   "outputs": [
    {
     "name": "stdout",
     "output_type": "stream",
     "text": [
      "TRAIN-VALIDATION-TEST\n",
      "best k chosen on validation set: 5 (f1: 0.933)\n",
      "\n",
      "precision on test set, using k chosen on validation set\n",
      "Confusion matrix:\n",
      "\n",
      "0.333  0.000  0.000\n",
      "0.000  0.311  0.022\n",
      "0.000  0.000  0.333\n",
      "Precision: 0.98, Recall: 0.98, F1: 0.98\n",
      "\n"
     ]
    }
   ],
   "source": [
    "_ = train_validation_test(X_iris, y_iris, range(1, 16, 2))"
   ]
  },
  {
   "cell_type": "markdown",
   "metadata": {
    "collapsed": false
   },
   "source": [
    "#### 10-fold cross-validation"
   ]
  },
  {
   "cell_type": "code",
   "execution_count": 63,
   "metadata": {
    "ExecuteTime": {
     "end_time": "2023-12-22T16:26:02.779128100Z",
     "start_time": "2023-12-22T16:26:02.098789500Z"
    },
    "collapsed": false
   },
   "outputs": [],
   "source": [
    "def cross_validation_10x10(X, y, k_values, show=False):\n",
    "    \"\"\" 10-fold cross validation. \"\"\"\n",
    "    print(\"10-FOLD CROSS VALIDATION\")\n",
    "    accuracy_metrics_dict = {'prec': [], 'rec': [], 'f1': [], 'cm': []}\n",
    "\n",
    "    folds = split_data_CV(X, y)\n",
    "    for i, fold in enumerate(folds):\n",
    "        x_train, y_train = fold['train_X'], fold['train_y']\n",
    "        x_val, y_val = fold['val_X'], fold['val_y']\n",
    "        x_test, y_test = fold['test_X'], fold['test_y']\n",
    "\n",
    "        if show:\n",
    "            print(f\"Fold {i+1}:\", end=\" \")\n",
    "        best_k, _ = pick_best_k(x_train, x_val, y_train, y_val, k_values, show=show)\n",
    "\n",
    "        knn = KNeighborsClassifier(n_neighbors=best_k)\n",
    "        model = knn.fit(np.vstack((x_train, x_val)), np.hstack((y_train, y_val)))\n",
    "\n",
    "        y_pred = model.predict(x_test)\n",
    "\n",
    "        calculate_accuracy_metrics(y_test, y_pred, print_results=False, write_to_dict=accuracy_metrics_dict)\n",
    "\n",
    "    return accuracy_metrics_dict"
   ]
  },
  {
   "cell_type": "code",
   "execution_count": 64,
   "metadata": {
    "ExecuteTime": {
     "end_time": "2023-12-22T16:26:03.872780200Z",
     "start_time": "2023-12-22T16:26:02.109761100Z"
    },
    "collapsed": false
   },
   "outputs": [
    {
     "name": "stdout",
     "output_type": "stream",
     "text": [
      "10-FOLD CROSS VALIDATION\n",
      "Average metrics:\n",
      "          | mean | std\n",
      "Precision | 0.97 | 0.04\n",
      "Recall    | 0.96 | 0.05\n",
      "F1        | 0.96 | 0.05\n",
      "Normalized confusion matrix mean +- std:\n",
      "0.333 +- 0.000 | 0.000 +- 0.000 | 0.000 +- 0.000 | \n",
      "0.000 +- 0.000 | 0.313 +- 0.033 | 0.020 +- 0.033 | \n",
      "0.000 +- 0.000 | 0.021 +- 0.035 | 0.313 +- 0.035 | \n"
     ]
    }
   ],
   "source": [
    "am = cross_validation_10x10(X_iris, y_iris, [1])\n",
    "print_results(am)"
   ]
  },
  {
   "cell_type": "code",
   "execution_count": 65,
   "metadata": {
    "ExecuteTime": {
     "end_time": "2023-12-22T16:26:10.968729400Z",
     "start_time": "2023-12-22T16:26:03.877831Z"
    },
    "collapsed": false
   },
   "outputs": [
    {
     "name": "stdout",
     "output_type": "stream",
     "text": [
      "10-FOLD CROSS VALIDATION\n",
      "Average metrics:\n",
      "          | mean | std\n",
      "Precision | 0.97 | 0.04\n",
      "Recall    | 0.96 | 0.04\n",
      "F1        | 0.96 | 0.05\n",
      "Normalized confusion matrix mean +- std:\n",
      "0.333 +- 0.000 | 0.000 +- 0.000 | 0.000 +- 0.000 | \n",
      "0.000 +- 0.000 | 0.312 +- 0.031 | 0.021 +- 0.031 | \n",
      "0.000 +- 0.000 | 0.015 +- 0.031 | 0.318 +- 0.031 | \n"
     ]
    }
   ],
   "source": [
    "am = cross_validation_10x10(X_iris, y_iris, range(1, 16, 2))\n",
    "print_results(am)"
   ]
  },
  {
   "cell_type": "markdown",
   "metadata": {
    "collapsed": false
   },
   "source": [
    "## 2.1.3 Analyse the results\n",
    "Training and testing on all data gives the best results, but the model is not very valuable as it is overfitted to the training data, so we don't have any guarantee that it will perform well on new unseen data.\n",
    "Testing the model with TVT split is better as we test it on new data, but the results can still be biased, as we can be lucky by having easy examples in the test set.\n",
    "The best way to test the model is to use 10x10 cross-validation, as it is the least biased way to test the model."
   ]
  },
  {
   "cell_type": "markdown",
   "metadata": {
    "collapsed": false
   },
   "source": [
    "## 2.2 repeat with reliefF and Fisher score"
   ]
  },
  {
   "cell_type": "markdown",
   "metadata": {
    "collapsed": false
   },
   "source": [
    "##### first we implement refliefF and Fisher score"
   ]
  },
  {
   "cell_type": "code",
   "execution_count": 66,
   "metadata": {
    "ExecuteTime": {
     "end_time": "2023-12-22T16:26:10.982709600Z",
     "start_time": "2023-12-22T16:26:10.979759Z"
    },
    "collapsed": false
   },
   "outputs": [],
   "source": [
    "def ReliefF(X, y):\n",
    "    \"\"\" Calculate the ReliefF score for each feature\n",
    "    X: numpy array of shape (num_instances, num_features)\n",
    "    y: numpy array of shape (num_instances, )\n",
    "    \"\"\"\n",
    "    # copy the data\n",
    "    X = np.copy(X)\n",
    "    # scale each feature to [0,1] range\n",
    "    X = (X - X.min(axis=0)) / (X.max(axis=0) - X.min(axis=0))\n",
    "\n",
    "    num_instances, num_feat = X.shape\n",
    "\n",
    "    dist = np.zeros((num_instances, num_instances))\n",
    "\n",
    "    for i in range(num_instances):\n",
    "        dist[i, :] = np.linalg.norm(X - X[i, :], axis=1)\n",
    "\n",
    "    # calculate the nearest hit and nearest miss for each sample\n",
    "    weights = np.zeros((num_feat,))\n",
    "    for idx in range(num_instances):\n",
    "        label = y[idx]\n",
    "\n",
    "        # find the nearest hit and nearest miss\n",
    "        hit_distances = dist[idx, :].copy()\n",
    "        hit_distances[y != label] = np.inf\n",
    "        hit_distances[idx] = np.inf\n",
    "        miss_distances = dist[idx, :].copy()\n",
    "        miss_distances[y == label] = np.inf\n",
    "        nearest_hit = np.argsort(hit_distances)[:3]\n",
    "        nearest_miss = np.argsort(miss_distances)[:3]\n",
    "\n",
    "        # print(\"hit\", idx, nearest_hit, nearest_miss)\n",
    "        # print(\"nearest_miss\", nearest_miss1, nearest_miss)\n",
    "\n",
    "        # calculate the weight for each feature\n",
    "        weights += (X[idx, :] - np.mean(X[nearest_miss, :], axis=0)) ** 2 - (X[idx, :] - np.mean(X[nearest_hit, :], axis=0)) ** 2\n",
    "\n",
    "\n",
    "    return weights / num_instances"
   ]
  },
  {
   "cell_type": "code",
   "execution_count": 67,
   "metadata": {
    "ExecuteTime": {
     "end_time": "2023-12-22T16:26:11.031841700Z",
     "start_time": "2023-12-22T16:26:10.986671100Z"
    },
    "collapsed": false
   },
   "outputs": [],
   "source": [
    "def fisher_score(X, y):\n",
    "    \"\"\" Calculate the fisher score for each feature \"\"\"\n",
    "    features_df = pd.DataFrame(X)\n",
    "    features_df[\"class\"] = y\n",
    "\n",
    "    feat = features_df.columns[:-1]\n",
    "\n",
    "    mu = features_df.groupby(\"class\").mean()\n",
    "    mu_all = features_df[feat].mean()\n",
    "    sigma_all = features_df[feat].std()\n",
    "    N = features_df.groupby(\"class\").count().iloc[:, 0]\n",
    "    fisher_scores = []\n",
    "\n",
    "    for f in feat:\n",
    "        mu_f = mu[f]\n",
    "        mu_all_f = mu_all[f]\n",
    "        sigma_all_f = sigma_all[f]\n",
    "\n",
    "        fisher_scores.append((N * (mu_f - mu_all_f) ** 2).sum() / max((sigma_all_f ** 2), 1e-14))\n",
    "\n",
    "    return fisher_scores"
   ]
  },
  {
   "cell_type": "markdown",
   "metadata": {
    "collapsed": false
   },
   "source": [
    "##### calculate the relief and fisher scores"
   ]
  },
  {
   "cell_type": "code",
   "execution_count": 68,
   "metadata": {
    "ExecuteTime": {
     "end_time": "2023-12-22T16:26:11.107943100Z",
     "start_time": "2023-12-22T16:26:11.020873100Z"
    },
    "collapsed": false
   },
   "outputs": [],
   "source": [
    "relief_scores = ReliefF(X_iris, y_iris)\n",
    "f_scores = fisher_score(X_iris, y_iris)"
   ]
  },
  {
   "cell_type": "code",
   "execution_count": 69,
   "metadata": {
    "ExecuteTime": {
     "end_time": "2023-12-22T16:26:11.141790100Z",
     "start_time": "2023-12-22T16:26:11.061070800Z"
    },
    "collapsed": false
   },
   "outputs": [
    {
     "data": {
      "text/plain": [
       "array([0.00733425, 0.04709748, 0.04697926, 0.05944187])"
      ]
     },
     "execution_count": 69,
     "metadata": {},
     "output_type": "execute_result"
    }
   ],
   "source": [
    "relief_scores"
   ]
  },
  {
   "cell_type": "markdown",
   "metadata": {
    "collapsed": false
   },
   "source": [
    "##### again some helper functions"
   ]
  },
  {
   "cell_type": "code",
   "execution_count": 70,
   "metadata": {
    "ExecuteTime": {
     "end_time": "2023-12-22T16:26:11.141790100Z",
     "start_time": "2023-12-22T16:26:11.079022100Z"
    },
    "collapsed": false
   },
   "outputs": [],
   "source": [
    "def get_list_of_features(scores):\n",
    "    \"\"\" function that returns a list of lists of features sorted by their score \"\"\"\n",
    "    sorted_indices = np.argsort(scores)[::-1]\n",
    "    return [sorted_indices[:i] for i in range(1, len(scores) + 1)]\n",
    "\n",
    "# get the list of features sorted by their score for each method\n",
    "relief_feat = get_list_of_features(relief_scores)\n",
    "fisher_feat = get_list_of_features(f_scores)"
   ]
  },
  {
   "cell_type": "markdown",
   "metadata": {
    "collapsed": false
   },
   "source": [
    "##### function that picks best features based on validation set and plots the elbow curve"
   ]
  },
  {
   "cell_type": "code",
   "execution_count": 71,
   "metadata": {
    "ExecuteTime": {
     "end_time": "2023-12-22T16:26:11.141790100Z",
     "start_time": "2023-12-22T16:26:11.095977700Z"
    },
    "collapsed": false
   },
   "outputs": [],
   "source": [
    "def pick_best_features(x_train, x_val, y_train, y_val, features, k=1, show=True, plot_elbow=False):\n",
    "    \"\"\" function that picks the best k value based on validation set \"\"\"\n",
    "    \"\"\" function that picks the best k value based on validation set \"\"\"\n",
    "    best_f1 = -1\n",
    "    best_features = None\n",
    "    f1_scores = []\n",
    "\n",
    "    for feat in features:\n",
    "        x_train_reduced = x_train[:, feat]\n",
    "        x_val_reduced = x_val[:, feat]\n",
    "\n",
    "        # fit the model on training set\n",
    "        knn = KNeighborsClassifier(n_neighbors=k)\n",
    "        model = knn.fit(x_train_reduced, y_train)\n",
    "\n",
    "        # predict on validation set and calculate precision\n",
    "        y_val_pred = model.predict(x_val_reduced)\n",
    "        _, precision, rec, f1 = calculate_accuracy_metrics(y_val, y_val_pred, print_results=False)\n",
    "        f1_scores.append(f1)\n",
    "\n",
    "        # save the k value if it's the best so far\n",
    "        if f1 > best_f1:\n",
    "            best_f1 = f1\n",
    "            best_features = feat\n",
    "\n",
    "    # show results and return best k\n",
    "    if show:\n",
    "        print(f\"best features chosen on validation set: {best_features} (prec: {best_f1:.3f})\")\n",
    "\n",
    "    if plot_elbow:\n",
    "        plt.plot(range(len(f1_scores)), f1_scores)\n",
    "        plt.xticks(range(len(f1_scores)), features, rotation=90)\n",
    "        plt.xlabel(\"Features\")\n",
    "        plt.ylabel(\"F1 score\")\n",
    "        plt.show()\n",
    "    return best_features, f1_scores"
   ]
  },
  {
   "cell_type": "markdown",
   "metadata": {
    "collapsed": false
   },
   "source": [
    "## 2.2.2 - 2.2.4"
   ]
  },
  {
   "cell_type": "code",
   "execution_count": 72,
   "metadata": {
    "ExecuteTime": {
     "end_time": "2023-12-22T16:26:11.219611400Z",
     "start_time": "2023-12-22T16:26:11.129818200Z"
    },
    "collapsed": false
   },
   "outputs": [],
   "source": [
    "def find_best_model_TVT(X, y, feat, groups=None):\n",
    "    x_train, x_val, x_test, y_train, y_val, y_test = split_data_TVT(X, y, split_by_groups=groups)\n",
    "\n",
    "    # find the best features\n",
    "    best_features, _ = pick_best_features(x_train, x_val, y_train, y_val, feat, show=True, plot_elbow=True)\n",
    "\n",
    "    x_train_reduced = x_train[:, best_features]\n",
    "    x_val_reduced = x_val[:, best_features]\n",
    "    x_test_reduced = x_test[:, best_features]\n",
    "\n",
    "    # find the best k\n",
    "    best_k, _ = pick_best_k(x_train_reduced, x_val_reduced, y_train, y_val,\n",
    "                         k_values=list(range(1, 16, 2)), show=False)\n",
    "\n",
    "    # train again on the train and validation set\n",
    "    knn = KNeighborsClassifier(n_neighbors=best_k)\n",
    "    model = knn.fit(np.vstack((x_train_reduced, x_val_reduced)), np.hstack((y_train, y_val)))\n",
    "    y_pred = model.predict(x_test_reduced)\n",
    "\n",
    "    print(\"Results on test set:\")\n",
    "    calculate_accuracy_metrics(y_pred, y_test)"
   ]
  },
  {
   "cell_type": "code",
   "execution_count": 73,
   "metadata": {
    "ExecuteTime": {
     "end_time": "2023-12-22T16:26:12.128433600Z",
     "start_time": "2023-12-22T16:26:11.136804300Z"
    },
    "collapsed": false
   },
   "outputs": [
    {
     "name": "stdout",
     "output_type": "stream",
     "text": [
      "finding best model TVT, feature selection: relief\n",
      "best features chosen on validation set: [3 1 2] (prec: 0.933)\n"
     ]
    },
    {
     "data": {
      "image/png": "[encoded data removed]",
      "text/plain": [
       "<Figure size 640x480 with 1 Axes>"
      ]
     },
     "metadata": {},
     "output_type": "display_data"
    },
    {
     "name": "stdout",
     "output_type": "stream",
     "text": [
      "Results on test set:\n",
      "Confusion matrix:\n",
      "\n",
      "0.333  0.000  0.000\n",
      "0.000  0.311  0.022\n",
      "0.000  0.022  0.311\n",
      "Precision: 0.96, Recall: 0.96, F1: 0.96\n",
      "\n",
      "finding best model TVT, feature selection: fisher\n",
      "best features chosen on validation set: [2] (prec: 0.933)\n"
     ]
    },
    {
     "data": {
      "image/png": "[encoded data removed]",
      "text/plain": [
       "<Figure size 640x480 with 1 Axes>"
      ]
     },
     "metadata": {},
     "output_type": "display_data"
    },
    {
     "name": "stdout",
     "output_type": "stream",
     "text": [
      "Results on test set:\n",
      "Confusion matrix:\n",
      "\n",
      "0.333  0.000  0.000\n",
      "0.000  0.289  0.022\n",
      "0.000  0.044  0.311\n",
      "Precision: 0.93, Recall: 0.93, F1: 0.93\n",
      "\n",
      "best features chosen on validation set: [2 3] (prec: 1.000)\n"
     ]
    },
    {
     "data": {
      "image/png": "[encoded data removed]",
      "text/plain": [
       "<Figure size 640x480 with 1 Axes>"
      ]
     },
     "metadata": {},
     "output_type": "display_data"
    },
    {
     "name": "stdout",
     "output_type": "stream",
     "text": [
      "Results on test set:\n",
      "Confusion matrix:\n",
      "\n",
      "0.333  0.000  0.000\n",
      "0.000  0.311  0.022\n",
      "0.000  0.022  0.311\n",
      "Precision: 0.96, Recall: 0.96, F1: 0.96\n",
      "\n"
     ]
    }
   ],
   "source": [
    "print(\"finding best model TVT, feature selection: relief\")\n",
    "find_best_model_TVT(X_iris, y_iris, relief_feat)\n",
    "print(\"finding best model TVT, feature selection: fisher\")\n",
    "find_best_model_TVT(X_iris, y_iris, fisher_feat)\n",
    "find_best_model_TVT(X_iris, y_iris, fisher_feat)"
   ]
  },
  {
   "cell_type": "code",
   "execution_count": 73,
   "metadata": {
    "ExecuteTime": {
     "end_time": "2023-12-22T16:26:12.144188600Z",
     "start_time": "2023-12-22T16:26:12.123451700Z"
    },
    "collapsed": false
   },
   "outputs": [],
   "source": []
  },
  {
   "cell_type": "code",
   "execution_count": 74,
   "metadata": {
    "ExecuteTime": {
     "end_time": "2023-12-22T16:26:12.164130500Z",
     "start_time": "2023-12-22T16:26:12.151165Z"
    },
    "collapsed": false
   },
   "outputs": [],
   "source": [
    "def print_mean_std(scores, a, b):\n",
    "    \"\"\" print the mean and std of the scores \"\"\"\n",
    "    scores = np.array(scores)\n",
    "    mean_scores = scores.mean(axis=0)\n",
    "    std_scores = scores.std(axis=0)\n",
    "    longest_a_len = max([len(str(x)) for x in a])\n",
    "    print(f\"          |   {b:11} |\")\n",
    "    print(f\"          | mean  |  std  |\")\n",
    "    for i in range(len(a)):\n",
    "        print(f\"{str(a[i]):{longest_a_len}} | {mean_scores[i]:.3f} | {std_scores[i]:.3f} |\")\n",
    "\n",
    "\n",
    "def find_best_model_CV(X, y, feat, groups=None):\n",
    "    # find the best features\n",
    "    folds = split_data_CV(X, y, groups=groups)\n",
    "\n",
    "    f1_scores = []\n",
    "    for fold in folds:\n",
    "        best_features, f1 = pick_best_features(fold[\"train_X\"], fold[\"val_X\"], fold[\"train_y\"],\n",
    "                                               fold[\"val_y\"], feat, show=False, plot_elbow=False)\n",
    "        f1_scores.append(f1)\n",
    "\n",
    "    f1_scores = np.array(f1_scores)\n",
    "    print_mean_std(f1_scores, feat, \"k=1\")\n",
    "\n",
    "    feature_f1_scores = f1_scores.mean(axis=0)\n",
    "    best_feature_idx = np.argmax(feature_f1_scores)\n",
    "    best_features = feat[best_feature_idx]\n",
    "    print(\"best features chosen on validation set: \", best_features)\n",
    "\n",
    "    k_scores = []\n",
    "    for fold in folds:\n",
    "        x_train_reduced = fold[\"train_X\"][:, best_features]\n",
    "        x_test_reduced = fold[\"test_X\"][:, best_features]\n",
    "\n",
    "        # find the best k\n",
    "        best_k, all_k = pick_best_k(x_train_reduced, x_test_reduced, fold[\"train_y\"], fold[\"test_y\"],\n",
    "                                    k_values=list(range(1, 16, 2)), show=False)\n",
    "        k_scores.append(all_k)\n",
    "\n",
    "    k_scores = np.array(k_scores)\n",
    "    print_mean_std(k_scores, list(range(1, 16, 2)), f\"f={best_features}\")\n",
    "\n",
    "    k_f1_scores = k_scores.mean(axis=0)\n",
    "    best_k_idx = np.argmax(k_f1_scores)\n",
    "    best_k = list(range(1, 16, 2))[best_k_idx]\n",
    "    print(\"best k chosen on validation set: \", best_k)\n",
    "\n",
    "    # train again on the train and validation set with best features and best k\n",
    "    knn = KNeighborsClassifier(n_neighbors=best_k)\n",
    "    model = knn.fit(X[:, best_features], y)\n",
    "\n",
    "    return model"
   ]
  },
  {
   "cell_type": "code",
   "execution_count": 75,
   "metadata": {
    "ExecuteTime": {
     "end_time": "2023-12-22T16:26:31.232138400Z",
     "start_time": "2023-12-22T16:26:12.160141400Z"
    },
    "collapsed": false
   },
   "outputs": [
    {
     "name": "stdout",
     "output_type": "stream",
     "text": [
      "finding best model 10x10 CV, feature selection: relief\n",
      "          |   k=1         |\n",
      "          | mean  |  std  |\n",
      "[3]       | 0.921 | 0.052 |\n",
      "[3 1]     | 0.923 | 0.036 |\n",
      "[3 1 2]   | 0.955 | 0.028 |\n",
      "[3 1 2 0] | 0.953 | 0.031 |\n",
      "best features chosen on validation set:  [3 1 2]\n",
      "          |   f=[3 1 2]   |\n",
      "          | mean  |  std  |\n",
      "1  | 0.953 | 0.055 |\n",
      "3  | 0.957 | 0.052 |\n",
      "5  | 0.962 | 0.048 |\n",
      "7  | 0.961 | 0.053 |\n",
      "9  | 0.966 | 0.051 |\n",
      "11 | 0.965 | 0.050 |\n",
      "13 | 0.963 | 0.049 |\n",
      "15 | 0.959 | 0.050 |\n",
      "best k chosen on validation set:  9\n",
      "finding best model 10x10 CV, feature selection: fisher\n",
      "          |   k=1         |\n",
      "          | mean  |  std  |\n",
      "[2]       | 0.916 | 0.035 |\n",
      "[2 3]     | 0.954 | 0.030 |\n",
      "[2 3 0]   | 0.953 | 0.027 |\n",
      "[2 3 0 1] | 0.950 | 0.026 |\n",
      "best features chosen on validation set:  [2 3]\n",
      "          |   f=[2 3]     |\n",
      "          | mean  |  std  |\n",
      "1  | 0.952 | 0.051 |\n",
      "3  | 0.953 | 0.048 |\n",
      "5  | 0.959 | 0.048 |\n",
      "7  | 0.961 | 0.044 |\n",
      "9  | 0.961 | 0.044 |\n",
      "11 | 0.961 | 0.047 |\n",
      "13 | 0.965 | 0.045 |\n",
      "15 | 0.959 | 0.046 |\n",
      "best k chosen on validation set:  13\n"
     ]
    }
   ],
   "source": [
    "print(\"finding best model 10x10 CV, feature selection: relief\")\n",
    "_ = find_best_model_CV(X_iris, y_iris, relief_feat)\n",
    "print(\"finding best model 10x10 CV, feature selection: fisher\")\n",
    "_ = find_best_model_CV(X_iris, y_iris, fisher_feat)"
   ]
  },
  {
   "cell_type": "markdown",
   "metadata": {
    "collapsed": false
   },
   "source": [
    "# Draw conclusions in terms of the bias-variance and underfitting-overfitting dilemma.\n",
    "K = 1 -> The model tends to have high variance, capturing noise in the data. (Overfitting)\n",
    "\n",
    "K > 1 -> As you increase k, the model generalizes better and the variance decreases. However, if you increase k too much, it leads to underfitting and the model starts to oversimplify the underlying patterns."
   ]
  },
  {
   "cell_type": "markdown",
   "metadata": {
    "collapsed": false
   },
   "source": [
    "## 2.4"
   ]
  },
  {
   "cell_type": "code",
   "execution_count": 76,
   "metadata": {
    "ExecuteTime": {
     "end_time": "2023-12-22T16:26:31.273015300Z",
     "start_time": "2023-12-22T16:26:31.235091400Z"
    },
    "collapsed": false
   },
   "outputs": [],
   "source": [
    "# reduce the iris dataset to\n",
    "y_iris_reduced = np.hstack((y_iris[:50], y_iris[50:80], y_iris[100:110]))\n",
    "X_iris_reduced = np.vstack((X_iris[:50], X_iris[50:80], X_iris[100:110]))"
   ]
  },
  {
   "cell_type": "code",
   "execution_count": 77,
   "metadata": {
    "ExecuteTime": {
     "end_time": "2023-12-22T16:26:31.285982100Z",
     "start_time": "2023-12-22T16:26:31.253070400Z"
    },
    "collapsed": false
   },
   "outputs": [
    {
     "name": "stdout",
     "output_type": "stream",
     "text": [
      "features selected by relief: \n",
      "[2]\n",
      "[2 3]\n",
      "[2 3 1]\n",
      "[2 3 1 0]\n",
      "features selected by fisher: \n",
      "[2]\n",
      "[2 3]\n",
      "[2 3 0]\n",
      "[2 3 0 1]\n"
     ]
    }
   ],
   "source": [
    "relief_scores = ReliefF(X_iris_reduced, y_iris_reduced)\n",
    "f_scores = fisher_score(X_iris_reduced, y_iris_reduced)\n",
    "\n",
    "relief_feat = get_list_of_features(relief_scores)\n",
    "fisher_feat = get_list_of_features(f_scores)\n",
    "\n",
    "print(\"features selected by relief: \")\n",
    "for f in relief_feat:\n",
    "    print(f)\n",
    "\n",
    "print(\"features selected by fisher: \")\n",
    "for f in fisher_feat:\n",
    "    print(f)\n"
   ]
  },
  {
   "cell_type": "code",
   "execution_count": 78,
   "metadata": {
    "ExecuteTime": {
     "end_time": "2023-12-22T16:26:31.923434300Z",
     "start_time": "2023-12-22T16:26:31.285982100Z"
    },
    "collapsed": false
   },
   "outputs": [
    {
     "name": "stdout",
     "output_type": "stream",
     "text": [
      "finding best model TVT, feature selection: relief\n",
      "best features chosen on validation set: [2 3 1] (prec: 1.000)\n"
     ]
    },
    {
     "data": {
      "image/png": "[encoded data removed]",
      "text/plain": [
       "<Figure size 640x480 with 1 Axes>"
      ]
     },
     "metadata": {},
     "output_type": "display_data"
    },
    {
     "name": "stdout",
     "output_type": "stream",
     "text": [
      "Results on test set:\n",
      "Confusion matrix:\n",
      "\n",
      "0.556  0.000  0.000\n",
      "0.000  0.296  0.000\n",
      "0.000  0.037  0.111\n",
      "Precision: 0.96, Recall: 0.92, F1: 0.93\n",
      "\n",
      "finding best model TVT, feature selection: fisher\n",
      "best features chosen on validation set: [2] (prec: 1.000)\n"
     ]
    },
    {
     "data": {
      "image/png": "[encoded data removed]",
      "text/plain": [
       "<Figure size 640x480 with 1 Axes>"
      ]
     },
     "metadata": {},
     "output_type": "display_data"
    },
    {
     "name": "stdout",
     "output_type": "stream",
     "text": [
      "Results on test set:\n",
      "Confusion matrix:\n",
      "\n",
      "0.556  0.000  0.000\n",
      "0.000  0.333  0.037\n",
      "0.000  0.000  0.074\n",
      "Precision: 0.89, Recall: 0.97, F1: 0.92\n",
      "\n"
     ]
    }
   ],
   "source": [
    "print(\"finding best model TVT, feature selection: relief\")\n",
    "find_best_model_TVT(X_iris_reduced, y_iris_reduced, relief_feat)\n",
    "print(\"finding best model TVT, feature selection: fisher\")\n",
    "find_best_model_TVT(X_iris_reduced, y_iris_reduced, fisher_feat)"
   ]
  },
  {
   "cell_type": "code",
   "execution_count": 79,
   "metadata": {
    "ExecuteTime": {
     "end_time": "2023-12-22T16:26:48.375140700Z",
     "start_time": "2023-12-22T16:26:31.875570400Z"
    },
    "collapsed": false
   },
   "outputs": [
    {
     "name": "stdout",
     "output_type": "stream",
     "text": [
      "finding best model 10x10 CV, feature selection: relief\n",
      "          |   k=1         |\n",
      "          | mean  |  std  |\n",
      "[2]       | 0.922 | 0.041 |\n",
      "[2 3]     | 0.952 | 0.032 |\n",
      "[2 3 1]   | 0.951 | 0.029 |\n",
      "[2 3 1 0] | 0.952 | 0.029 |\n",
      "best features chosen on validation set:  [2 3]\n",
      "          |   f=[2 3]     |\n",
      "          | mean  |  std  |\n",
      "1  | 0.960 | 0.046 |\n",
      "3  | 0.956 | 0.051 |\n",
      "5  | 0.962 | 0.049 |\n",
      "7  | 0.964 | 0.046 |\n",
      "9  | 0.963 | 0.046 |\n",
      "11 | 0.962 | 0.049 |\n",
      "13 | 0.964 | 0.045 |\n",
      "15 | 0.963 | 0.041 |\n",
      "best k chosen on validation set:  7\n",
      "finding best model 10x10 CV, feature selection: fisher\n",
      "          |   k=1         |\n",
      "          | mean  |  std  |\n",
      "[2]       | 0.918 | 0.046 |\n",
      "[2 3]     | 0.953 | 0.031 |\n",
      "[2 3 0]   | 0.953 | 0.024 |\n",
      "[2 3 0 1] | 0.953 | 0.025 |\n",
      "best features chosen on validation set:  [2 3 0]\n",
      "          |   f=[2 3 0]   |\n",
      "          | mean  |  std  |\n",
      "1  | 0.952 | 0.052 |\n",
      "3  | 0.957 | 0.052 |\n",
      "5  | 0.959 | 0.047 |\n",
      "7  | 0.959 | 0.047 |\n",
      "9  | 0.960 | 0.048 |\n",
      "11 | 0.961 | 0.049 |\n",
      "13 | 0.957 | 0.053 |\n",
      "15 | 0.956 | 0.053 |\n",
      "best k chosen on validation set:  11\n"
     ]
    }
   ],
   "source": [
    "print(\"finding best model 10x10 CV, feature selection: relief\")\n",
    "_ = find_best_model_CV(X_iris, y_iris, relief_feat)\n",
    "print(\"finding best model 10x10 CV, feature selection: fisher\")\n",
    "_ = find_best_model_CV(X_iris, y_iris, fisher_feat)\n"
   ]
  },
  {
   "cell_type": "markdown",
   "metadata": {
    "collapsed": false
   },
   "source": [
    "# Analyze the results in terms of the impact of class imbalance.\n",
    "versicolor = 30 samples\n",
    "\n",
    "virginica = 10 samples\n",
    "\n",
    "From theory we know the imbalance will result in bias torwards majority class, which is versicolor.This is because the model will be trained on more versicolor samples, so it will be more likely to predict versicolor. Analysing the confusion matrixes results validates our assumptions.\n",
    "\n"
   ]
  },
  {
   "cell_type": "markdown",
   "metadata": {
    "collapsed": false
   },
   "source": [
    "## 3. Experiments on the dataset of facial expressions\n"
   ]
  },
  {
   "cell_type": "code",
   "execution_count": 80,
   "metadata": {
    "ExecuteTime": {
     "end_time": "2023-12-22T16:26:48.423144700Z",
     "start_time": "2023-12-22T16:26:48.381204500Z"
    },
    "collapsed": false
   },
   "outputs": [
    {
     "data": {
      "text/html": [
       "<div>\n",
       "<style scoped>\n",
       "    .dataframe tbody tr th:only-of-type {\n",
       "        vertical-align: middle;\n",
       "    }\n",
       "\n",
       "    .dataframe tbody tr th {\n",
       "        vertical-align: top;\n",
       "    }\n",
       "\n",
       "    .dataframe thead th {\n",
       "        text-align: right;\n",
       "    }\n",
       "</style>\n",
       "<table border=\"1\" class=\"dataframe\">\n",
       "  <thead>\n",
       "    <tr style=\"text-align: right;\">\n",
       "      <th></th>\n",
       "      <th>mean_distance_48_54</th>\n",
       "      <th>mean_distance_62_66</th>\n",
       "      <th>std_distance_48_54</th>\n",
       "      <th>std_distance_51_57</th>\n",
       "      <th>mean_distance_23_43</th>\n",
       "      <th>mean_distance_20_38</th>\n",
       "      <th>std_distance_62_66</th>\n",
       "      <th>triangle_area_51_57_54</th>\n",
       "      <th>mean_angles_23_25</th>\n",
       "      <th>mean_distance_15_35</th>\n",
       "      <th>emotion</th>\n",
       "      <th>actor</th>\n",
       "    </tr>\n",
       "  </thead>\n",
       "  <tbody>\n",
       "    <tr>\n",
       "      <th>0</th>\n",
       "      <td>0.100664</td>\n",
       "      <td>0.007399</td>\n",
       "      <td>0.002523</td>\n",
       "      <td>0.011692</td>\n",
       "      <td>0.049992</td>\n",
       "      <td>0.046413</td>\n",
       "      <td>0.006194</td>\n",
       "      <td>0.001402</td>\n",
       "      <td>0.006467</td>\n",
       "      <td>0.124195</td>\n",
       "      <td>neutral</td>\n",
       "      <td>1</td>\n",
       "    </tr>\n",
       "    <tr>\n",
       "      <th>1</th>\n",
       "      <td>0.094378</td>\n",
       "      <td>0.017265</td>\n",
       "      <td>0.005688</td>\n",
       "      <td>0.006170</td>\n",
       "      <td>0.048530</td>\n",
       "      <td>0.045028</td>\n",
       "      <td>0.005654</td>\n",
       "      <td>0.001660</td>\n",
       "      <td>-0.045955</td>\n",
       "      <td>0.146302</td>\n",
       "      <td>fearful</td>\n",
       "      <td>1</td>\n",
       "    </tr>\n",
       "    <tr>\n",
       "      <th>2</th>\n",
       "      <td>0.094991</td>\n",
       "      <td>0.025533</td>\n",
       "      <td>0.002922</td>\n",
       "      <td>0.009377</td>\n",
       "      <td>0.054258</td>\n",
       "      <td>0.053013</td>\n",
       "      <td>0.006717</td>\n",
       "      <td>0.001800</td>\n",
       "      <td>0.026439</td>\n",
       "      <td>0.119625</td>\n",
       "      <td>fearful</td>\n",
       "      <td>1</td>\n",
       "    </tr>\n",
       "    <tr>\n",
       "      <th>3</th>\n",
       "      <td>0.103376</td>\n",
       "      <td>0.021364</td>\n",
       "      <td>0.004855</td>\n",
       "      <td>0.010208</td>\n",
       "      <td>0.043060</td>\n",
       "      <td>0.040022</td>\n",
       "      <td>0.010567</td>\n",
       "      <td>0.001796</td>\n",
       "      <td>-0.110721</td>\n",
       "      <td>0.145583</td>\n",
       "      <td>disgust</td>\n",
       "      <td>1</td>\n",
       "    </tr>\n",
       "    <tr>\n",
       "      <th>4</th>\n",
       "      <td>0.102074</td>\n",
       "      <td>0.024980</td>\n",
       "      <td>0.004694</td>\n",
       "      <td>0.009039</td>\n",
       "      <td>0.041511</td>\n",
       "      <td>0.039141</td>\n",
       "      <td>0.009713</td>\n",
       "      <td>0.001829</td>\n",
       "      <td>-0.143814</td>\n",
       "      <td>0.142900</td>\n",
       "      <td>disgust</td>\n",
       "      <td>1</td>\n",
       "    </tr>\n",
       "    <tr>\n",
       "      <th>...</th>\n",
       "      <td>...</td>\n",
       "      <td>...</td>\n",
       "      <td>...</td>\n",
       "      <td>...</td>\n",
       "      <td>...</td>\n",
       "      <td>...</td>\n",
       "      <td>...</td>\n",
       "      <td>...</td>\n",
       "      <td>...</td>\n",
       "      <td>...</td>\n",
       "      <td>...</td>\n",
       "      <td>...</td>\n",
       "    </tr>\n",
       "    <tr>\n",
       "      <th>2447</th>\n",
       "      <td>0.096226</td>\n",
       "      <td>0.018297</td>\n",
       "      <td>0.005826</td>\n",
       "      <td>0.021249</td>\n",
       "      <td>0.078875</td>\n",
       "      <td>0.076400</td>\n",
       "      <td>0.014951</td>\n",
       "      <td>0.001745</td>\n",
       "      <td>0.033057</td>\n",
       "      <td>0.158270</td>\n",
       "      <td>neutral</td>\n",
       "      <td>24</td>\n",
       "    </tr>\n",
       "    <tr>\n",
       "      <th>2448</th>\n",
       "      <td>0.100180</td>\n",
       "      <td>0.017758</td>\n",
       "      <td>0.006915</td>\n",
       "      <td>0.020929</td>\n",
       "      <td>0.074344</td>\n",
       "      <td>0.071745</td>\n",
       "      <td>0.019611</td>\n",
       "      <td>0.001796</td>\n",
       "      <td>-0.065240</td>\n",
       "      <td>0.141604</td>\n",
       "      <td>neutral</td>\n",
       "      <td>24</td>\n",
       "    </tr>\n",
       "    <tr>\n",
       "      <th>2449</th>\n",
       "      <td>0.100390</td>\n",
       "      <td>0.009850</td>\n",
       "      <td>0.006617</td>\n",
       "      <td>0.009561</td>\n",
       "      <td>0.070083</td>\n",
       "      <td>0.067765</td>\n",
       "      <td>0.008958</td>\n",
       "      <td>0.001586</td>\n",
       "      <td>-0.054571</td>\n",
       "      <td>0.136799</td>\n",
       "      <td>calm</td>\n",
       "      <td>24</td>\n",
       "    </tr>\n",
       "    <tr>\n",
       "      <th>2450</th>\n",
       "      <td>0.098706</td>\n",
       "      <td>0.011474</td>\n",
       "      <td>0.003457</td>\n",
       "      <td>0.016221</td>\n",
       "      <td>0.073625</td>\n",
       "      <td>0.070760</td>\n",
       "      <td>0.012376</td>\n",
       "      <td>0.001622</td>\n",
       "      <td>-0.084250</td>\n",
       "      <td>0.142263</td>\n",
       "      <td>neutral</td>\n",
       "      <td>24</td>\n",
       "    </tr>\n",
       "    <tr>\n",
       "      <th>2451</th>\n",
       "      <td>0.094946</td>\n",
       "      <td>0.037653</td>\n",
       "      <td>0.010818</td>\n",
       "      <td>0.034516</td>\n",
       "      <td>0.069763</td>\n",
       "      <td>0.067843</td>\n",
       "      <td>0.030188</td>\n",
       "      <td>0.002351</td>\n",
       "      <td>0.111854</td>\n",
       "      <td>0.146708</td>\n",
       "      <td>fearful</td>\n",
       "      <td>24</td>\n",
       "    </tr>\n",
       "  </tbody>\n",
       "</table>\n",
       "<p>2452 rows × 12 columns</p>\n",
       "</div>"
      ],
      "text/plain": [
       "      mean_distance_48_54  mean_distance_62_66  std_distance_48_54  \\\n",
       "0                0.100664             0.007399            0.002523   \n",
       "1                0.094378             0.017265            0.005688   \n",
       "2                0.094991             0.025533            0.002922   \n",
       "3                0.103376             0.021364            0.004855   \n",
       "4                0.102074             0.024980            0.004694   \n",
       "...                   ...                  ...                 ...   \n",
       "2447             0.096226             0.018297            0.005826   \n",
       "2448             0.100180             0.017758            0.006915   \n",
       "2449             0.100390             0.009850            0.006617   \n",
       "2450             0.098706             0.011474            0.003457   \n",
       "2451             0.094946             0.037653            0.010818   \n",
       "\n",
       "      std_distance_51_57  mean_distance_23_43  mean_distance_20_38  \\\n",
       "0               0.011692             0.049992             0.046413   \n",
       "1               0.006170             0.048530             0.045028   \n",
       "2               0.009377             0.054258             0.053013   \n",
       "3               0.010208             0.043060             0.040022   \n",
       "4               0.009039             0.041511             0.039141   \n",
       "...                  ...                  ...                  ...   \n",
       "2447            0.021249             0.078875             0.076400   \n",
       "2448            0.020929             0.074344             0.071745   \n",
       "2449            0.009561             0.070083             0.067765   \n",
       "2450            0.016221             0.073625             0.070760   \n",
       "2451            0.034516             0.069763             0.067843   \n",
       "\n",
       "      std_distance_62_66  triangle_area_51_57_54  mean_angles_23_25  \\\n",
       "0               0.006194                0.001402           0.006467   \n",
       "1               0.005654                0.001660          -0.045955   \n",
       "2               0.006717                0.001800           0.026439   \n",
       "3               0.010567                0.001796          -0.110721   \n",
       "4               0.009713                0.001829          -0.143814   \n",
       "...                  ...                     ...                ...   \n",
       "2447            0.014951                0.001745           0.033057   \n",
       "2448            0.019611                0.001796          -0.065240   \n",
       "2449            0.008958                0.001586          -0.054571   \n",
       "2450            0.012376                0.001622          -0.084250   \n",
       "2451            0.030188                0.002351           0.111854   \n",
       "\n",
       "      mean_distance_15_35  emotion  actor  \n",
       "0                0.124195  neutral      1  \n",
       "1                0.146302  fearful      1  \n",
       "2                0.119625  fearful      1  \n",
       "3                0.145583  disgust      1  \n",
       "4                0.142900  disgust      1  \n",
       "...                   ...      ...    ...  \n",
       "2447             0.158270  neutral     24  \n",
       "2448             0.141604  neutral     24  \n",
       "2449             0.136799     calm     24  \n",
       "2450             0.142263  neutral     24  \n",
       "2451             0.146708  fearful     24  \n",
       "\n",
       "[2452 rows x 12 columns]"
      ]
     },
     "execution_count": 80,
     "metadata": {},
     "output_type": "execute_result"
    }
   ],
   "source": [
    "emotion_data = pd.read_csv(\"top_10_relieff.csv\")\n",
    "emotion_data"
   ]
  },
  {
   "cell_type": "code",
   "execution_count": 81,
   "metadata": {
    "ExecuteTime": {
     "end_time": "2023-12-22T16:26:48.435463900Z",
     "start_time": "2023-12-22T16:26:48.424131300Z"
    },
    "collapsed": false
   },
   "outputs": [],
   "source": [
    "X_emotion = emotion_data.drop(columns=[\"emotion\", \"actor\"]).values\n",
    "y_emotion = emotion_data[\"emotion\"].values\n",
    "groups = emotion_data[\"actor\"]"
   ]
  },
  {
   "cell_type": "code",
   "execution_count": 82,
   "metadata": {
    "ExecuteTime": {
     "end_time": "2023-12-22T16:26:49.497795Z",
     "start_time": "2023-12-22T16:26:48.439454400Z"
    },
    "collapsed": false
   },
   "outputs": [],
   "source": [
    "relief_scores = ReliefF(X_emotion, y_emotion)\n",
    "relief_feat = get_list_of_features(relief_scores)\n",
    "\n",
    "fisher_scores = fisher_score(X_emotion, y_emotion)\n",
    "fisher_feat = get_list_of_features(fisher_scores)"
   ]
  },
  {
   "cell_type": "code",
   "execution_count": 83,
   "metadata": {
    "ExecuteTime": {
     "end_time": "2023-12-22T16:26:50.636958400Z",
     "start_time": "2023-12-22T16:26:49.501784100Z"
    },
    "collapsed": false
   },
   "outputs": [
    {
     "name": "stdout",
     "output_type": "stream",
     "text": [
      "finding best model TVT, feature selection: relief\n",
      "best features chosen on validation set: [0 8 7 1 9 3 4 6 5 2] (prec: 0.235)\n"
     ]
    },
    {
     "data": {
      "image/png": "[encoded data removed]",
      "text/plain": [
       "<Figure size 640x480 with 1 Axes>"
      ]
     },
     "metadata": {},
     "output_type": "display_data"
    },
    {
     "name": "stdout",
     "output_type": "stream",
     "text": [
      "Results on test set:\n",
      "Confusion matrix:\n",
      "\n",
      "0.082  0.007  0.018  0.034  0.010  0.004  0.019  0.008\n",
      "0.011  0.052  0.002  0.006  0.035  0.019  0.034  0.016\n",
      "0.010  0.002  0.006  0.005  0.002  0.001  0.006  0.002\n",
      "0.019  0.035  0.018  0.073  0.024  0.023  0.047  0.026\n",
      "0.001  0.014  0.005  0.005  0.069  0.001  0.007  0.006\n",
      "0.005  0.014  0.002  0.006  0.000  0.011  0.005  0.004\n",
      "0.019  0.024  0.019  0.018  0.011  0.016  0.028  0.008\n",
      "0.007  0.005  0.006  0.007  0.004  0.002  0.008  0.006\n",
      "Precision: 0.28, Recall: 0.30, F1: 0.28\n",
      "\n"
     ]
    }
   ],
   "source": [
    "print(\"finding best model TVT, feature selection: relief\")\n",
    "find_best_model_TVT(X_emotion, y_emotion, relief_feat, groups=groups)"
   ]
  },
  {
   "cell_type": "code",
   "execution_count": 84,
   "metadata": {
    "ExecuteTime": {
     "end_time": "2023-12-22T16:26:51.683530800Z",
     "start_time": "2023-12-22T16:26:50.640913Z"
    },
    "collapsed": false
   },
   "outputs": [
    {
     "name": "stdout",
     "output_type": "stream",
     "text": [
      "finding best model TVT, feature selection: fisher\n",
      "best features chosen on validation set: [0 8 7 1] (prec: 0.249)\n"
     ]
    },
    {
     "data": {
      "image/png": "[encoded data removed]",
      "text/plain": [
       "<Figure size 640x480 with 1 Axes>"
      ]
     },
     "metadata": {},
     "output_type": "display_data"
    },
    {
     "name": "stdout",
     "output_type": "stream",
     "text": [
      "Results on test set:\n",
      "Confusion matrix:\n",
      "\n",
      "0.084  0.024  0.032  0.043  0.011  0.011  0.027  0.015\n",
      "0.009  0.044  0.005  0.009  0.027  0.014  0.025  0.006\n",
      "0.011  0.008  0.000  0.013  0.004  0.000  0.011  0.008\n",
      "0.029  0.029  0.019  0.048  0.016  0.016  0.024  0.018\n",
      "0.003  0.020  0.006  0.008  0.077  0.001  0.009  0.015\n",
      "0.003  0.013  0.006  0.008  0.005  0.011  0.014  0.006\n",
      "0.005  0.011  0.006  0.019  0.008  0.018  0.034  0.010\n",
      "0.009  0.003  0.006  0.005  0.004  0.004  0.008  0.003\n",
      "Precision: 0.26, Recall: 0.25, F1: 0.25\n",
      "\n"
     ]
    }
   ],
   "source": [
    "print(\"finding best model TVT, feature selection: fisher\")\n",
    "find_best_model_TVT(X_emotion, y_emotion, relief_feat, groups=groups)"
   ]
  },
  {
   "cell_type": "code",
   "execution_count": 85,
   "metadata": {
    "ExecuteTime": {
     "end_time": "2023-12-22T16:27:45.687073400Z",
     "start_time": "2023-12-22T16:26:51.688517200Z"
    },
    "collapsed": false
   },
   "outputs": [
    {
     "name": "stdout",
     "output_type": "stream",
     "text": [
      "          |   k=1         |\n",
      "          | mean  |  std  |\n",
      "[0]                   | 0.172 | 0.013 |\n",
      "[0 8]                 | 0.207 | 0.015 |\n",
      "[0 8 7]               | 0.209 | 0.015 |\n",
      "[0 8 7 1]             | 0.251 | 0.018 |\n",
      "[0 8 7 1 9]           | 0.248 | 0.019 |\n",
      "[0 8 7 1 9 3]         | 0.270 | 0.022 |\n",
      "[0 8 7 1 9 3 4]       | 0.276 | 0.020 |\n",
      "[0 8 7 1 9 3 4 6]     | 0.283 | 0.020 |\n",
      "[0 8 7 1 9 3 4 6 5]   | 0.279 | 0.020 |\n",
      "[0 8 7 1 9 3 4 6 5 2] | 0.281 | 0.020 |\n",
      "best features chosen on validation set:  [0 8 7 1 9 3 4 6]\n",
      "          |   f=[0 8 7 1 9 3 4 6] |\n",
      "          | mean  |  std  |\n",
      "1  | 0.270 | 0.040 |\n",
      "3  | 0.254 | 0.038 |\n",
      "5  | 0.270 | 0.040 |\n",
      "7  | 0.268 | 0.041 |\n",
      "9  | 0.270 | 0.041 |\n",
      "11 | 0.275 | 0.040 |\n",
      "13 | 0.276 | 0.040 |\n",
      "15 | 0.275 | 0.042 |\n",
      "best k chosen on validation set:  13\n"
     ]
    },
    {
     "data": {
      "text/html": [
       "<style>#sk-container-id-2 {color: black;}#sk-container-id-2 pre{padding: 0;}#sk-container-id-2 div.sk-toggleable {background-color: white;}#sk-container-id-2 label.sk-toggleable__label {cursor: pointer;display: block;width: 100%;margin-bottom: 0;padding: 0.3em;box-sizing: border-box;text-align: center;}#sk-container-id-2 label.sk-toggleable__label-arrow:before {content: \"▸\";float: left;margin-right: 0.25em;color: #696969;}#sk-container-id-2 label.sk-toggleable__label-arrow:hover:before {color: black;}#sk-container-id-2 div.sk-estimator:hover label.sk-toggleable__label-arrow:before {color: black;}#sk-container-id-2 div.sk-toggleable__content {max-height: 0;max-width: 0;overflow: hidden;text-align: left;background-color: #f0f8ff;}#sk-container-id-2 div.sk-toggleable__content pre {margin: 0.2em;color: black;border-radius: 0.25em;background-color: #f0f8ff;}#sk-container-id-2 input.sk-toggleable__control:checked~div.sk-toggleable__content {max-height: 200px;max-width: 100%;overflow: auto;}#sk-container-id-2 input.sk-toggleable__control:checked~label.sk-toggleable__label-arrow:before {content: \"▾\";}#sk-container-id-2 div.sk-estimator input.sk-toggleable__control:checked~label.sk-toggleable__label {background-color: #d4ebff;}#sk-container-id-2 div.sk-label input.sk-toggleable__control:checked~label.sk-toggleable__label {background-color: #d4ebff;}#sk-container-id-2 input.sk-hidden--visually {border: 0;clip: rect(1px 1px 1px 1px);clip: rect(1px, 1px, 1px, 1px);height: 1px;margin: -1px;overflow: hidden;padding: 0;position: absolute;width: 1px;}#sk-container-id-2 div.sk-estimator {font-family: monospace;background-color: #f0f8ff;border: 1px dotted black;border-radius: 0.25em;box-sizing: border-box;margin-bottom: 0.5em;}#sk-container-id-2 div.sk-estimator:hover {background-color: #d4ebff;}#sk-container-id-2 div.sk-parallel-item::after {content: \"\";width: 100%;border-bottom: 1px solid gray;flex-grow: 1;}#sk-container-id-2 div.sk-label:hover label.sk-toggleable__label {background-color: #d4ebff;}#sk-container-id-2 div.sk-serial::before {content: \"\";position: absolute;border-left: 1px solid gray;box-sizing: border-box;top: 0;bottom: 0;left: 50%;z-index: 0;}#sk-container-id-2 div.sk-serial {display: flex;flex-direction: column;align-items: center;background-color: white;padding-right: 0.2em;padding-left: 0.2em;position: relative;}#sk-container-id-2 div.sk-item {position: relative;z-index: 1;}#sk-container-id-2 div.sk-parallel {display: flex;align-items: stretch;justify-content: center;background-color: white;position: relative;}#sk-container-id-2 div.sk-item::before, #sk-container-id-2 div.sk-parallel-item::before {content: \"\";position: absolute;border-left: 1px solid gray;box-sizing: border-box;top: 0;bottom: 0;left: 50%;z-index: -1;}#sk-container-id-2 div.sk-parallel-item {display: flex;flex-direction: column;z-index: 1;position: relative;background-color: white;}#sk-container-id-2 div.sk-parallel-item:first-child::after {align-self: flex-end;width: 50%;}#sk-container-id-2 div.sk-parallel-item:last-child::after {align-self: flex-start;width: 50%;}#sk-container-id-2 div.sk-parallel-item:only-child::after {width: 0;}#sk-container-id-2 div.sk-dashed-wrapped {border: 1px dashed gray;margin: 0 0.4em 0.5em 0.4em;box-sizing: border-box;padding-bottom: 0.4em;background-color: white;}#sk-container-id-2 div.sk-label label {font-family: monospace;font-weight: bold;display: inline-block;line-height: 1.2em;}#sk-container-id-2 div.sk-label-container {text-align: center;}#sk-container-id-2 div.sk-container {/* jupyter's `normalize.less` sets `[hidden] { display: none; }` but bootstrap.min.css set `[hidden] { display: none !important; }` so we also need the `!important` here to be able to override the default hidden behavior on the sphinx rendered scikit-learn.org. See: https://github.com/scikit-learn/scikit-learn/issues/21755 */display: inline-block !important;position: relative;}#sk-container-id-2 div.sk-text-repr-fallback {display: none;}</style><div id=\"sk-container-id-2\" class=\"sk-top-container\"><div class=\"sk-text-repr-fallback\"><pre>KNeighborsClassifier(n_neighbors=13)</pre><b>In a Jupyter environment, please rerun this cell to show the HTML representation or trust the notebook. <br />On GitHub, the HTML representation is unable to render, please try loading this page with nbviewer.org.</b></div><div class=\"sk-container\" hidden><div class=\"sk-item\"><div class=\"sk-estimator sk-toggleable\"><input class=\"sk-toggleable__control sk-hidden--visually\" id=\"sk-estimator-id-2\" type=\"checkbox\" checked><label for=\"sk-estimator-id-2\" class=\"sk-toggleable__label sk-toggleable__label-arrow\">KNeighborsClassifier</label><div class=\"sk-toggleable__content\"><pre>KNeighborsClassifier(n_neighbors=13)</pre></div></div></div></div></div>"
      ],
      "text/plain": [
       "KNeighborsClassifier(n_neighbors=13)"
      ]
     },
     "execution_count": 85,
     "metadata": {},
     "output_type": "execute_result"
    }
   ],
   "source": [
    "find_best_model_CV(X_emotion, y_emotion, relief_feat, groups=groups)"
   ]
  },
  {
   "cell_type": "markdown",
   "metadata": {
    "collapsed": false
   },
   "source": []
  },
  {
   "cell_type": "markdown",
   "metadata": {
    "collapsed": false
   },
   "source": [
    "## 4. Experiments on the dataset of facial expressions with MLP"
   ]
  },
  {
   "cell_type": "code",
   "execution_count": 86,
   "metadata": {
    "ExecuteTime": {
     "end_time": "2023-12-22T16:27:45.713787600Z",
     "start_time": "2023-12-22T16:27:45.691248900Z"
    },
    "collapsed": false
   },
   "outputs": [],
   "source": [
    "# best results are with all the features\n",
    "selected_features = [0, 1, 2, 3, 4, 5, 6, 7, 8, 9]\n",
    "X_emotion_reduced = X_emotion[:, selected_features]\n",
    "\n",
    "# split the data into train, validation and test set\n",
    "X_emotions_train, X_emotions_val, X_emotions_test, y_emotions_train, y_emotions_val, y_emotions_test = split_data_TVT(X_emotion_reduced, y_emotion, split_by_groups=groups)\n"
   ]
  },
  {
   "cell_type": "markdown",
   "metadata": {
    "collapsed": false
   },
   "source": [
    "#### helper function to plot the confusion matrix"
   ]
  },
  {
   "cell_type": "code",
   "execution_count": 87,
   "metadata": {
    "ExecuteTime": {
     "end_time": "2023-12-22T16:27:45.733735800Z",
     "start_time": "2023-12-22T16:27:45.708801300Z"
    },
    "collapsed": false
   },
   "outputs": [],
   "source": [
    "def plot_confusion_matrix(c_matrix, y_true):\n",
    "    plt.matshow(c_matrix, cmap='Blues')\n",
    "    # annotate the confusion matrix\n",
    "    for i in range(c_matrix.shape[0]):\n",
    "        for j in range(c_matrix.shape[1]):\n",
    "            if c_matrix[i, j] > 0:\n",
    "                plt.text(x=j, y=i, s=round(c_matrix[i, j], 3), va='center', ha='center', size='small')\n",
    "    # add the class names to the axes\n",
    "    plt.xlabel(\"Predicted label\")\n",
    "    plt.ylabel(\"True label\")\n",
    "    labels = np.unique(y_true)\n",
    "    plt.xticks(range(len(labels)), labels)\n",
    "    plt.yticks(range(len(labels)), labels)\n",
    "\n",
    "    plt.show()"
   ]
  },
  {
   "cell_type": "markdown",
   "metadata": {
    "collapsed": false
   },
   "source": [
    "#### just try if it works"
   ]
  },
  {
   "cell_type": "code",
   "execution_count": 88,
   "metadata": {
    "ExecuteTime": {
     "end_time": "2023-12-22T16:28:27.198364200Z",
     "start_time": "2023-12-22T16:27:45.719778200Z"
    },
    "collapsed": false
   },
   "outputs": [
    {
     "name": "stdout",
     "output_type": "stream",
     "text": [
      "[[8.35791621e-01 1.28543524e-03 1.09350176e-01 3.24355550e-02\n",
      "  1.10599449e-02 5.82496431e-04 1.54252504e-03 7.95224621e-03]] ['angry']\n",
      "['angry' 'angry' 'sad' 'angry' 'angry'] ['angry' 'angry' 'calm' 'angry' 'angry']\n",
      "Confusion matrix:\n",
      "\n",
      "0.099  0.008  0.000  0.025  0.002  0.000  0.019  0.000\n",
      "0.000  0.072  0.000  0.023  0.024  0.000  0.035  0.000\n",
      "0.030  0.002  0.000  0.013  0.005  0.000  0.026  0.000\n",
      "0.022  0.018  0.000  0.046  0.012  0.000  0.056  0.000\n",
      "0.007  0.017  0.000  0.022  0.106  0.000  0.002  0.000\n",
      "0.000  0.018  0.000  0.007  0.000  0.000  0.052  0.000\n",
      "0.005  0.028  0.000  0.031  0.004  0.000  0.087  0.000\n",
      "0.005  0.004  0.000  0.013  0.010  0.000  0.046  0.000\n",
      "Precision: 0.27, Recall: 0.33, F1: 0.30\n",
      "\n"
     ]
    }
   ],
   "source": [
    "clf = MLPClassifier(random_state=1, max_iter=10000, hidden_layer_sizes=(200,),\n",
    "                    activation='logistic').fit(X_emotions_train, y_emotions_train)\n",
    "\n",
    "print(clf.predict_proba(X_emotions_test[:1]), y_emotions_test[:1])\n",
    "print(clf.predict(X_emotions_test[:5, :]), y_emotions_test[:5])\n",
    "\n",
    "y_test_pred = clf.predict(X_emotions_test)\n",
    "cm, pr, rec, f1 = calculate_accuracy_metrics(y_emotions_test, y_test_pred)\n"
   ]
  },
  {
   "cell_type": "markdown",
   "metadata": {
    "collapsed": false
   },
   "source": [
    "#### function that fins best model using TVT split among all the combinations of parameters"
   ]
  },
  {
   "cell_type": "code",
   "execution_count": 89,
   "metadata": {
    "ExecuteTime": {
     "end_time": "2023-12-22T16:28:27.208347900Z",
     "start_time": "2023-12-22T16:28:27.198364200Z"
    },
    "collapsed": false
   },
   "outputs": [],
   "source": [
    "def find_best_mlp_model_TVT(X, y, groups=None, param_combinations=None):\n",
    "    x_train, x_val, x_test, y_train, y_val, y_test = split_data_TVT(X, y, split_by_groups=groups)\n",
    "\n",
    "    f1_scores = []\n",
    "\n",
    "    for param in param_combinations:\n",
    "        print([f\"{k[:8]}: {v}\" for k, v in param.items()], end=\" \")\n",
    "        clf = MLPClassifier(random_state=1, max_iter=10000, batch_size=100,\n",
    "                            solver=param[\"solver\"],\n",
    "                            hidden_layer_sizes=(param[\"hidden_layer_sizes\"],),\n",
    "                            learning_rate=param[\"learning_rate\"],\n",
    "                            momentum=param[\"momentum\"],\n",
    "                            activation='logistic').fit(x_train, y_train)\n",
    "\n",
    "        y_pred = clf.predict(x_val)\n",
    "        cm, pr, rec, f1 = calculate_accuracy_metrics(y_val, y_pred, print_results=False)\n",
    "        f1_scores.append(f1)\n",
    "        print(\"-> f1:\", round(f1, 3), \"prec\", round(pr, 3), \"rec\", round(rec, 3))\n",
    "\n",
    "    best_param = param_combinations[np.argmax(f1_scores)]\n",
    "    print(\"Best param: \", best_param)\n",
    "\n",
    "    clf = MLPClassifier(random_state=1, max_iter=10000, batch_size=100,\n",
    "                        solver=best_param[\"solver\"],\n",
    "                        hidden_layer_sizes=(best_param[\"hidden_layer_sizes\"],),\n",
    "                        learning_rate=best_param[\"learning_rate\"],\n",
    "                        momentum=best_param[\"momentum\"],\n",
    "                        activation='logistic').fit(np.vstack((x_train, x_val)),\n",
    "                                                   np.hstack((y_train, y_val)))\n",
    "\n",
    "    y_pred = clf.predict(x_test)\n",
    "\n",
    "    cm, pr, rec, f1 = calculate_accuracy_metrics(y_test, y_pred, print_results=False)\n",
    "\n",
    "    plot_confusion_matrix(cm, y_test)\n",
    "    print(\"Results on test set:\")\n",
    "    print(\"Precision: \", pr)\n",
    "    print(\"Recall: \", rec)\n",
    "    print(\"F1: \", f1)\n"
   ]
  },
  {
   "cell_type": "markdown",
   "metadata": {
    "collapsed": false
   },
   "source": [
    "#### Try different combinations of parameters (hidden layer size, learning rate, momentum, solver)"
   ]
  },
  {
   "cell_type": "code",
   "execution_count": 90,
   "metadata": {
    "ExecuteTime": {
     "end_time": "2023-12-22T16:28:27.296466900Z",
     "start_time": "2023-12-22T16:28:27.214322Z"
    },
    "collapsed": false
   },
   "outputs": [
    {
     "name": "stdout",
     "output_type": "stream",
     "text": [
      "number of param combinations:  50\n"
     ]
    }
   ],
   "source": [
    "hidden_layer_sizes = [10, 50, 100, 250, 500]\n",
    "learning_rates = ['constant', 'invscaling', 'adaptive']\n",
    "momentums = [0, 0.5, 0.9]\n",
    "solvers = ['sgd', 'adam']\n",
    "\n",
    "param_combinations = []\n",
    "for s in solvers:\n",
    "    for h in hidden_layer_sizes:\n",
    "        if s == 'sgd':\n",
    "            for l in learning_rates:\n",
    "                for m in momentums:\n",
    "                    param_combinations.append({\"hidden_layer_sizes\": h,\n",
    "                                               \"learning_rate\": l,\n",
    "                                               \"momentum\": m,\n",
    "                                               \"solver\": s})\n",
    "        else:\n",
    "            param_combinations.append({\"hidden_layer_sizes\": h,\n",
    "                                       \"learning_rate\": 'constant',\n",
    "                                       \"momentum\": 0,\n",
    "                                       \"solver\": s})\n",
    "\n",
    "print(\"number of param combinations: \", len(param_combinations))"
   ]
  },
  {
   "cell_type": "code",
   "execution_count": 91,
   "metadata": {
    "ExecuteTime": {
     "end_time": "2023-12-22T16:32:15.869633200Z",
     "start_time": "2023-12-22T16:28:27.229610100Z"
    },
    "collapsed": false
   },
   "outputs": [
    {
     "name": "stdout",
     "output_type": "stream",
     "text": [
      "['hidden_l: 10', 'learning: constant', 'momentum: 0', 'solver: sgd'] -> f1: 0.033 prec 0.019 rec 0.125\n",
      "['hidden_l: 10', 'learning: constant', 'momentum: 0.5', 'solver: sgd'] -> f1: 0.049 prec 0.11 rec 0.131\n",
      "['hidden_l: 10', 'learning: constant', 'momentum: 0.9', 'solver: sgd'] -> f1: 0.069 prec 0.079 rec 0.122\n",
      "['hidden_l: 10', 'learning: invscaling', 'momentum: 0', 'solver: sgd'] -> f1: 0.018 prec 0.01 rec 0.125\n",
      "['hidden_l: 10', 'learning: invscaling', 'momentum: 0.5', 'solver: sgd'] -> f1: 0.018 prec 0.01 rec 0.125\n",
      "['hidden_l: 10', 'learning: invscaling', 'momentum: 0.9', 'solver: sgd'] -> f1: 0.018 prec 0.01 rec 0.125\n",
      "['hidden_l: 10', 'learning: adaptive', 'momentum: 0', 'solver: sgd'] -> f1: 0.033 prec 0.019 rec 0.125\n",
      "['hidden_l: 10', 'learning: adaptive', 'momentum: 0.5', 'solver: sgd'] -> f1: 0.049 prec 0.102 rec 0.131\n",
      "['hidden_l: 10', 'learning: adaptive', 'momentum: 0.9', 'solver: sgd'] -> f1: 0.112 prec 0.106 rec 0.142\n",
      "['hidden_l: 50', 'learning: constant', 'momentum: 0', 'solver: sgd'] -> f1: 0.033 prec 0.019 rec 0.125\n",
      "['hidden_l: 50', 'learning: constant', 'momentum: 0.5', 'solver: sgd'] -> f1: 0.033 prec 0.019 rec 0.125\n",
      "['hidden_l: 50', 'learning: constant', 'momentum: 0.9', 'solver: sgd'] -> f1: 0.06 prec 0.072 rec 0.107\n",
      "['hidden_l: 50', 'learning: invscaling', 'momentum: 0', 'solver: sgd'] -> f1: 0.033 prec 0.019 rec 0.125\n",
      "['hidden_l: 50', 'learning: invscaling', 'momentum: 0.5', 'solver: sgd'] -> f1: 0.033 prec 0.019 rec 0.125\n",
      "['hidden_l: 50', 'learning: invscaling', 'momentum: 0.9', 'solver: sgd'] -> f1: 0.033 prec 0.019 rec 0.125\n",
      "['hidden_l: 50', 'learning: adaptive', 'momentum: 0', 'solver: sgd'] -> f1: 0.033 prec 0.019 rec 0.125\n",
      "['hidden_l: 50', 'learning: adaptive', 'momentum: 0.5', 'solver: sgd'] -> f1: 0.033 prec 0.019 rec 0.125\n",
      "['hidden_l: 50', 'learning: adaptive', 'momentum: 0.9', 'solver: sgd'] -> f1: 0.082 prec 0.065 rec 0.151\n",
      "['hidden_l: 100', 'learning: constant', 'momentum: 0', 'solver: sgd'] -> f1: 0.042 prec 0.031 rec 0.086\n",
      "['hidden_l: 100', 'learning: constant', 'momentum: 0.5', 'solver: sgd'] -> f1: 0.07 prec 0.056 rec 0.112\n",
      "['hidden_l: 100', 'learning: constant', 'momentum: 0.9', 'solver: sgd'] -> f1: 0.074 prec 0.049 rec 0.157\n",
      "['hidden_l: 100', 'learning: invscaling', 'momentum: 0', 'solver: sgd'] -> f1: 0.033 prec 0.019 rec 0.125\n",
      "['hidden_l: 100', 'learning: invscaling', 'momentum: 0.5', 'solver: sgd'] -> f1: 0.033 prec 0.019 rec 0.125\n",
      "['hidden_l: 100', 'learning: invscaling', 'momentum: 0.9', 'solver: sgd'] -> f1: 0.033 prec 0.019 rec 0.125\n",
      "['hidden_l: 100', 'learning: adaptive', 'momentum: 0', 'solver: sgd'] -> f1: 0.043 prec 0.032 rec 0.086\n",
      "['hidden_l: 100', 'learning: adaptive', 'momentum: 0.5', 'solver: sgd'] -> f1: 0.042 prec 0.032 rec 0.081\n",
      "['hidden_l: 100', 'learning: adaptive', 'momentum: 0.9', 'solver: sgd'] -> f1: 0.12 prec 0.099 rec 0.162\n",
      "['hidden_l: 250', 'learning: constant', 'momentum: 0', 'solver: sgd'] -> f1: 0.078 prec 0.054 rec 0.161\n",
      "['hidden_l: 250', 'learning: constant', 'momentum: 0.5', 'solver: sgd'] -> f1: 0.078 prec 0.064 rec 0.152\n",
      "['hidden_l: 250', 'learning: constant', 'momentum: 0.9', 'solver: sgd'] -> f1: 0.033 prec 0.019 rec 0.125\n",
      "['hidden_l: 250', 'learning: invscaling', 'momentum: 0', 'solver: sgd'] -> f1: 0.033 prec 0.019 rec 0.125\n",
      "['hidden_l: 250', 'learning: invscaling', 'momentum: 0.5', 'solver: sgd'] -> f1: 0.033 prec 0.019 rec 0.125\n",
      "['hidden_l: 250', 'learning: invscaling', 'momentum: 0.9', 'solver: sgd'] -> f1: 0.033 prec 0.019 rec 0.125\n",
      "['hidden_l: 250', 'learning: adaptive', 'momentum: 0', 'solver: sgd'] -> f1: 0.076 prec 0.051 rec 0.158\n",
      "['hidden_l: 250', 'learning: adaptive', 'momentum: 0.5', 'solver: sgd'] -> f1: 0.08 prec 0.063 rec 0.162\n",
      "['hidden_l: 250', 'learning: adaptive', 'momentum: 0.9', 'solver: sgd'] -> f1: 0.08 prec 0.061 rec 0.16\n",
      "['hidden_l: 500', 'learning: constant', 'momentum: 0', 'solver: sgd'] -> f1: 0.06 prec 0.07 rec 0.08\n",
      "['hidden_l: 500', 'learning: constant', 'momentum: 0.5', 'solver: sgd'] -> f1: 0.059 prec 0.039 rec 0.125\n",
      "['hidden_l: 500', 'learning: constant', 'momentum: 0.9', 'solver: sgd'] -> f1: 0.05 prec 0.13 rec 0.133\n",
      "['hidden_l: 500', 'learning: invscaling', 'momentum: 0', 'solver: sgd'] -> f1: 0.018 prec 0.01 rec 0.125\n",
      "['hidden_l: 500', 'learning: invscaling', 'momentum: 0.5', 'solver: sgd'] -> f1: 0.033 prec 0.019 rec 0.125\n",
      "['hidden_l: 500', 'learning: invscaling', 'momentum: 0.9', 'solver: sgd'] -> f1: 0.033 prec 0.019 rec 0.125\n",
      "['hidden_l: 500', 'learning: adaptive', 'momentum: 0', 'solver: sgd'] -> f1: 0.055 prec 0.054 rec 0.086\n",
      "['hidden_l: 500', 'learning: adaptive', 'momentum: 0.5', 'solver: sgd'] -> f1: 0.057 prec 0.037 rec 0.124\n",
      "['hidden_l: 500', 'learning: adaptive', 'momentum: 0.9', 'solver: sgd'] -> f1: 0.059 prec 0.039 rec 0.123\n",
      "['hidden_l: 10', 'learning: constant', 'momentum: 0', 'solver: adam'] -> f1: 0.253 prec 0.277 rec 0.297\n",
      "['hidden_l: 50', 'learning: constant', 'momentum: 0', 'solver: adam'] -> f1: 0.266 prec 0.296 rec 0.305\n",
      "['hidden_l: 100', 'learning: constant', 'momentum: 0', 'solver: adam'] -> f1: 0.252 prec 0.269 rec 0.295\n",
      "['hidden_l: 250', 'learning: constant', 'momentum: 0', 'solver: adam'] -> f1: 0.259 prec 0.265 rec 0.304\n",
      "['hidden_l: 500', 'learning: constant', 'momentum: 0', 'solver: adam'] -> f1: 0.257 prec 0.266 rec 0.299\n",
      "Best param:  {'hidden_layer_sizes': 50, 'learning_rate': 'constant', 'momentum': 0, 'solver': 'adam'}\n"
     ]
    },
    {
     "data": {
      "image/png": "[encoded data removed]",
      "text/plain": [
       "<Figure size 480x480 with 1 Axes>"
      ]
     },
     "metadata": {},
     "output_type": "display_data"
    },
    {
     "name": "stdout",
     "output_type": "stream",
     "text": [
      "Results on test set:\n",
      "Precision:  0.3435360356811674\n",
      "Recall:  0.359375\n",
      "F1:  0.3178372110409934\n"
     ]
    }
   ],
   "source": [
    "import warnings\n",
    "warnings.filterwarnings('ignore')\n",
    "\n",
    "find_best_mlp_model_TVT(X_emotion_reduced, y_emotion, groups=groups,\n",
    "                        param_combinations=param_combinations)"
   ]
  },
  {
   "cell_type": "markdown",
   "metadata": {
    "collapsed": false
   },
   "source": [
    "#### 4.4 discuss the results\n",
    "For some reason the sgd solver produces really bad results, while the adam solver produces okay results (f score ~ 0.3).\n",
    "We should probably go back to the feature selection step and try to find better features."
   ]
  },
  {
   "cell_type": "markdown",
   "metadata": {
    "collapsed": false
   },
   "source": [
    "# 5. Our implementation of MLP with backpropagation"
   ]
  },
  {
   "cell_type": "code",
   "execution_count": 92,
   "metadata": {
    "ExecuteTime": {
     "end_time": "2023-12-22T16:32:15.969960100Z",
     "start_time": "2023-12-22T16:32:15.885590200Z"
    },
    "collapsed": false
   },
   "outputs": [],
   "source": [
    "def sigmoid(x):\n",
    "    # sigmoid function\n",
    "    return 1 / (1 + np.exp(-x))\n",
    "\n",
    "\n",
    "def sigmoid_derivative(x):\n",
    "    # derivative of sigmoid function\n",
    "    return (sigmoid(x) * (1 - sigmoid(x))).flatten()\n",
    "\n",
    "\n",
    "def relu(x):\n",
    "    # relu function\n",
    "    return np.maximum(0, x)\n",
    "\n",
    "\n",
    "def relu_derivative(x):\n",
    "    # derivative of relu function\n",
    "    return (x > 0).astype(int)\n",
    "\n",
    "\n",
    "class NeuralNetwork:\n",
    "    def __init__(self, input_size, hidden_size, output_size, lr=0.1):\n",
    "        self.v = np.random.randn(input_size, hidden_size)\n",
    "        self.w = np.random.randn(hidden_size, output_size)\n",
    "\n",
    "        self.b = np.zeros(hidden_size)\n",
    "        self.b2 = np.zeros(output_size)\n",
    "\n",
    "        self.lr = lr\n",
    "\n",
    "        self.log = {\"f1_val\": [], \"f1_train\": []}\n",
    "\n",
    "    def __str__(self):\n",
    "        s = \"my neural network\\n\"\n",
    "        s += f\"v: {self.v.shape}\\n\"\n",
    "        s += f\"w: {self.w.shape}\\n\"\n",
    "        s += f\"b: {self.b.shape}\\n\"\n",
    "        s += f\"b2: {self.b2.shape}\\n\\n\"\n",
    "        return s\n",
    "\n",
    "    def feedforward(self, x):\n",
    "        \"\"\" feedforward the input through the network \"\"\"\n",
    "        y = np.dot(x, self.v) + self.b\n",
    "        y_hat = relu(y)\n",
    "\n",
    "        z = np.dot(y_hat, self.w) + self.b2\n",
    "        z_hat = sigmoid(z)\n",
    "\n",
    "        return y, y_hat, z, z_hat\n",
    "\n",
    "    def backprop(self, x, true_values, y, y_hat, z, z_hat):\n",
    "        \"\"\" backpropagation of the error and updates the weights \"\"\"\n",
    "\n",
    "        # print(\"x\", x.shape)\n",
    "        # print(\"z_hat\", z_hat.shape)\n",
    "\n",
    "        dl_dz_hat = 2 * (z_hat - true_values)\n",
    "        # print(\"dl_dz_hat\", dl_dz_hat.shape)\n",
    "        dz_hat_dz = sigmoid_derivative(z)\n",
    "        # print(\"dz_hat_dz\", dz_hat_dz.shape)\n",
    "\n",
    "        dz_dy_hat = self.w\n",
    "        # print(\"dz_dy_hat\", dz_dy_hat.shape)\n",
    "        dz_db2 = np.ones(self.b2.shape)\n",
    "        # print(\"dz_db2\", dz_db2.shape)\n",
    "        dz_dw = np.repeat(y_hat, self.w.shape[1], axis=0).reshape(self.w.shape)\n",
    "        # print(\"dz_dw\", dz_dw.shape)\n",
    "\n",
    "        dy_hat_dy = relu_derivative(y)\n",
    "        # print(\"dy_hat_dy\", dy_hat_dy.shape)\n",
    "        dy_db = np.ones(self.b.shape)\n",
    "        # print(\"dy_db\", dy_db.shape)\n",
    "        dy_dv = np.repeat(x, self.v.shape[1], axis=0).reshape(self.v.shape)\n",
    "        # print(\"dy_dv\", dy_dv.shape)\n",
    "\n",
    "        dl_dz = dl_dz_hat * dz_hat_dz\n",
    "        # print(\"dl_dz\", dl_dz.shape)\n",
    "        dl_dy = np.dot(dz_dy_hat, dl_dz) * dy_hat_dy\n",
    "        # print(\"dl_dy\", dl_dy.shape)\n",
    "\n",
    "        dl_db2 = dl_dz * dz_db2\n",
    "        # print(\"dl_db2\", dl_db2.shape)\n",
    "        dl_dw = dl_dz * dz_dw\n",
    "        # print(\"dl_dw\", dl_dw.shape)\n",
    "\n",
    "        dl_db = dl_dy * dy_db\n",
    "        # print(\"dl_db\", dl_db.shape)\n",
    "        dl_dv = dl_dy * dy_dv\n",
    "        # print(\"dl_dv\", dl_dv.shape)\n",
    "\n",
    "        # print(\"b2\", self.b2.shape, dl_db2.shape)\n",
    "        self.b2 = self.b2 - self.lr * dl_db2\n",
    "\n",
    "        # print(\"w\", self.w.shape, dl_dw.shape)\n",
    "        self.w = self.w - self.lr * dl_dw\n",
    "\n",
    "        # print(\"b\", self.b.shape, dl_db.flatten().shape)\n",
    "        self.b = self.b - self.lr * dl_db\n",
    "\n",
    "        # print(\"v\", self.v.shape, dl_dv.shape)\n",
    "        self.v = self.v - self.lr * dl_dv\n",
    "\n",
    "    def train_one_epoch(self, all_x, all_y):\n",
    "        for i, (xx, yy) in enumerate(zip(all_x, all_y)):\n",
    "            y, y_hat, z, z_hat = self.feedforward(xx)\n",
    "            self.backprop(xx, yy, y, y_hat, z, z_hat)\n",
    "\n",
    "    def train(self, x, y, x_val, y_val, epochs=10):\n",
    "        \"\"\" train the network \"\"\"\n",
    "        for i in range(epochs):\n",
    "            self.train_one_epoch(x, y)\n",
    "            if i % 10 == 0:\n",
    "                self.log_progress(x, y, x_val, y_val)\n",
    "\n",
    "    def predict(self, x):\n",
    "        \"\"\" predict the output for the given input \"\"\"\n",
    "        _, _, _, z_hat = self.feedforward(x)\n",
    "        return z_hat\n",
    "\n",
    "    def log_progress(self, x, y, x_val, y_val):\n",
    "        \"\"\" log the progress of the network \"\"\"\n",
    "        y_hat = self.predict(x)\n",
    "        y_hat_val = self.predict(x_val)\n",
    "\n",
    "        # one hot encoding back to normal\n",
    "        y = np.argmax(y, axis=1)\n",
    "        y_hat = np.argmax(y_hat, axis=1)\n",
    "        y_val = np.argmax(y_val, axis=1)\n",
    "        y_hat_val = np.argmax(y_hat_val, axis=1)\n",
    "\n",
    "        loss = np.sum(np.power(y - y_hat, 2))\n",
    "\n",
    "        _, _, _, f1_train = calculate_accuracy_metrics(y, y_hat, print_results=False)\n",
    "        _, _, _, f1_val = calculate_accuracy_metrics(y_val, y_hat_val, print_results=False)\n",
    "        self.log[\"f1_train\"].append(f1_train)\n",
    "        self.log[\"f1_val\"].append(f1_val)\n",
    "\n",
    "        print(f\"epoch: {len(self.log['f1_train']) * 10}, f1_train: {f1_train}, \"\n",
    "              f\"f1_val: {f1_val}, loss: {loss}\")\n",
    "\n"
   ]
  },
  {
   "cell_type": "code",
   "execution_count": 93,
   "metadata": {
    "ExecuteTime": {
     "end_time": "2023-12-22T16:32:16.030830100Z",
     "start_time": "2023-12-22T16:32:15.901144400Z"
    },
    "collapsed": false
   },
   "outputs": [
    {
     "data": {
      "text/plain": [
       "(936, 10)"
      ]
     },
     "execution_count": 93,
     "metadata": {},
     "output_type": "execute_result"
    }
   ],
   "source": [
    "X_emotions_train.shape"
   ]
  },
  {
   "cell_type": "markdown",
   "metadata": {
    "collapsed": false
   },
   "source": [
    "#### Create a neural network with 1 hidden layer, 50 neurons, learning rate 0.001 and 8 output neurons (one for each emotion) and train it on the emotions dataset"
   ]
  },
  {
   "cell_type": "code",
   "execution_count": 99,
   "metadata": {
    "ExecuteTime": {
     "end_time": "2023-12-22T16:39:19.024649900Z",
     "start_time": "2023-12-22T16:37:03.258785400Z"
    },
    "collapsed": false
   },
   "outputs": [
    {
     "name": "stdout",
     "output_type": "stream",
     "text": [
      "epoch: 10, f1_train: 0.07111249148332717, f1_val: 0.05159774044635729, loss: 8510\n",
      "epoch: 20, f1_train: 0.1106049578302699, f1_val: 0.11564068404619586, loss: 8404\n",
      "epoch: 30, f1_train: 0.1347563835414579, f1_val: 0.12933833306659784, loss: 8308\n",
      "epoch: 40, f1_train: 0.1333455339227835, f1_val: 0.13915835521678255, loss: 8192\n",
      "epoch: 50, f1_train: 0.15490233312167184, f1_val: 0.1776237658874581, loss: 8217\n",
      "epoch: 60, f1_train: 0.17139855692921846, f1_val: 0.1908566436774706, loss: 8129\n",
      "epoch: 70, f1_train: 0.17829400049348554, f1_val: 0.19957421839638495, loss: 8018\n",
      "epoch: 80, f1_train: 0.17468962355877604, f1_val: 0.20007891055449023, loss: 8084\n",
      "epoch: 90, f1_train: 0.1765246324482864, f1_val: 0.2050884812282042, loss: 8048\n",
      "epoch: 100, f1_train: 0.17655982484708355, f1_val: 0.2035095874663474, loss: 7997\n",
      "epoch: 110, f1_train: 0.1779967604073154, f1_val: 0.20504630265273988, loss: 8024\n",
      "epoch: 120, f1_train: 0.1813655250263321, f1_val: 0.20356279810039773, loss: 8006\n",
      "epoch: 130, f1_train: 0.18173865458243696, f1_val: 0.20491556660186694, loss: 8022\n",
      "epoch: 140, f1_train: 0.17945705587321237, f1_val: 0.20567129634048772, loss: 8018\n",
      "epoch: 150, f1_train: 0.1801384789357663, f1_val: 0.208402331502986, loss: 8036\n",
      "epoch: 160, f1_train: 0.18255186764421277, f1_val: 0.2082960660430974, loss: 8011\n",
      "epoch: 170, f1_train: 0.18195873897830658, f1_val: 0.20344520394658147, loss: 7986\n",
      "epoch: 180, f1_train: 0.18136694291098748, f1_val: 0.20151614033147136, loss: 8001\n",
      "epoch: 190, f1_train: 0.1814561536145693, f1_val: 0.2012494804284084, loss: 7948\n",
      "epoch: 200, f1_train: 0.18049299048043088, f1_val: 0.20531762997639424, loss: 7943\n",
      "epoch: 210, f1_train: 0.17865412384561322, f1_val: 0.20566360735791442, loss: 7938\n",
      "epoch: 220, f1_train: 0.18194453723189308, f1_val: 0.20748969962785752, loss: 7918\n",
      "epoch: 230, f1_train: 0.18299609691259777, f1_val: 0.20760196386421803, loss: 7877\n",
      "epoch: 240, f1_train: 0.18396440948743015, f1_val: 0.21099115245448036, loss: 7845\n",
      "epoch: 250, f1_train: 0.18396440948743015, f1_val: 0.21106188089920982, loss: 7845\n",
      "epoch: 260, f1_train: 0.18314975821290685, f1_val: 0.21758505807513917, loss: 7854\n",
      "epoch: 270, f1_train: 0.18416297359204734, f1_val: 0.21871644020626915, loss: 7829\n",
      "epoch: 280, f1_train: 0.1866536248122597, f1_val: 0.21866700338541545, loss: 7809\n",
      "epoch: 290, f1_train: 0.18665739282907648, f1_val: 0.22119491661034635, loss: 7806\n",
      "epoch: 300, f1_train: 0.1887226231964714, f1_val: 0.22591072008456134, loss: 7785\n",
      "epoch: 310, f1_train: 0.1887303949893374, f1_val: 0.22664183435457727, loss: 7778\n",
      "epoch: 320, f1_train: 0.18970219673080507, f1_val: 0.22866800489454747, loss: 7761\n",
      "epoch: 330, f1_train: 0.1921364563673113, f1_val: 0.2295035993813776, loss: 7759\n",
      "epoch: 340, f1_train: 0.19320328608267306, f1_val: 0.23086754420194605, loss: 7787\n",
      "epoch: 350, f1_train: 0.19320061126422877, f1_val: 0.23288407707083278, loss: 7763\n",
      "epoch: 360, f1_train: 0.19244978180684408, f1_val: 0.23435077137146365, loss: 7771\n",
      "epoch: 370, f1_train: 0.19349567938524842, f1_val: 0.23630385126283376, loss: 7798\n",
      "epoch: 380, f1_train: 0.1919271643953701, f1_val: 0.23815767126619086, loss: 7804\n",
      "epoch: 390, f1_train: 0.19198405928456125, f1_val: 0.23987711100759568, loss: 7825\n",
      "epoch: 400, f1_train: 0.19296507037200494, f1_val: 0.2391229597414313, loss: 7813\n",
      "epoch: 410, f1_train: 0.1934647524700747, f1_val: 0.23907798413245096, loss: 7800\n",
      "epoch: 420, f1_train: 0.1950277600408912, f1_val: 0.23907798413245096, loss: 7786\n",
      "epoch: 430, f1_train: 0.19354094394316362, f1_val: 0.23788032635214373, loss: 7788\n",
      "epoch: 440, f1_train: 0.19507946377930505, f1_val: 0.23637339403309382, loss: 7774\n",
      "epoch: 450, f1_train: 0.19414402311148649, f1_val: 0.23812154065474417, loss: 7779\n",
      "epoch: 460, f1_train: 0.19516718616097498, f1_val: 0.2398220313513155, loss: 7778\n",
      "epoch: 470, f1_train: 0.19514550886212342, f1_val: 0.2398220313513155, loss: 7773\n",
      "epoch: 480, f1_train: 0.19521493888095248, f1_val: 0.23861613887880145, loss: 7781\n",
      "epoch: 490, f1_train: 0.1962402424455921, f1_val: 0.23853066316359556, loss: 7805\n",
      "epoch: 500, f1_train: 0.19688017086128862, f1_val: 0.24053534863137335, loss: 7778\n",
      "epoch: 510, f1_train: 0.19693042702061536, f1_val: 0.24124973565139443, loss: 7820\n",
      "epoch: 520, f1_train: 0.19755148327085598, f1_val: 0.2416020063949646, loss: 7788\n",
      "epoch: 530, f1_train: 0.19647428617647306, f1_val: 0.24157531863245718, loss: 7770\n",
      "epoch: 540, f1_train: 0.1985413369589202, f1_val: 0.2416222190930007, loss: 7769\n",
      "epoch: 550, f1_train: 0.20370759402641997, f1_val: 0.24146837361762472, loss: 7745\n",
      "epoch: 560, f1_train: 0.20322011755146507, f1_val: 0.2431487688544347, loss: 7746\n",
      "epoch: 570, f1_train: 0.20322011755146507, f1_val: 0.24509606197903122, loss: 7746\n",
      "epoch: 580, f1_train: 0.20457020876549303, f1_val: 0.24573544816828952, loss: 7735\n",
      "epoch: 590, f1_train: 0.20461000469016702, f1_val: 0.2460867300502603, loss: 7738\n",
      "epoch: 600, f1_train: 0.20811680622170756, f1_val: 0.2460764305279134, loss: 7730\n",
      "epoch: 610, f1_train: 0.20910266183491083, f1_val: 0.24858332090656596, loss: 7706\n",
      "epoch: 620, f1_train: 0.2086743136829318, f1_val: 0.24868589794531376, loss: 7737\n",
      "epoch: 630, f1_train: 0.21018104966225748, f1_val: 0.24846465229879922, loss: 7733\n",
      "epoch: 640, f1_train: 0.21107359595154468, f1_val: 0.2498965892986601, loss: 7701\n",
      "epoch: 650, f1_train: 0.21107178937182422, f1_val: 0.2513360224072381, loss: 7653\n",
      "epoch: 660, f1_train: 0.2104878158264329, f1_val: 0.24999166091067812, loss: 7646\n",
      "epoch: 670, f1_train: 0.2101842491491071, f1_val: 0.24993668954861437, loss: 7705\n",
      "epoch: 680, f1_train: 0.21264369206283917, f1_val: 0.24980599964880904, loss: 7721\n",
      "epoch: 690, f1_train: 0.21474801148135797, f1_val: 0.25259852536657096, loss: 7692\n",
      "epoch: 700, f1_train: 0.21452451075696213, f1_val: 0.25110853170699715, loss: 7690\n",
      "epoch: 710, f1_train: 0.21404951174531991, f1_val: 0.253636082974208, loss: 7701\n",
      "epoch: 720, f1_train: 0.21882236045693237, f1_val: 0.25152470835498786, loss: 7701\n",
      "epoch: 730, f1_train: 0.22022803688467443, f1_val: 0.25119786500951163, loss: 7759\n",
      "epoch: 740, f1_train: 0.2212504825909007, f1_val: 0.24841163649990627, loss: 7738\n",
      "epoch: 750, f1_train: 0.22225959982323035, f1_val: 0.24830574834772018, loss: 7742\n",
      "epoch: 760, f1_train: 0.22413546208584273, f1_val: 0.24827842223665336, loss: 7725\n",
      "epoch: 770, f1_train: 0.22478522070829854, f1_val: 0.24952968304367162, loss: 7743\n",
      "epoch: 780, f1_train: 0.22606917161743995, f1_val: 0.24952503172591664, loss: 7680\n",
      "epoch: 790, f1_train: 0.22734631798706156, f1_val: 0.24686078578720547, loss: 7692\n",
      "epoch: 800, f1_train: 0.22734631798706156, f1_val: 0.24666090465779908, loss: 7692\n",
      "epoch: 810, f1_train: 0.23049886458820562, f1_val: 0.24946044765389574, loss: 7679\n",
      "epoch: 820, f1_train: 0.23049886458820562, f1_val: 0.24561643919321746, loss: 7679\n",
      "epoch: 830, f1_train: 0.23008435052309628, f1_val: 0.2462546703200133, loss: 7717\n",
      "epoch: 840, f1_train: 0.23365584461300465, f1_val: 0.24614378162877046, loss: 7674\n",
      "epoch: 850, f1_train: 0.23404728325277796, f1_val: 0.24890533112522586, loss: 7710\n",
      "epoch: 860, f1_train: 0.23540966465649815, f1_val: 0.24890464215808952, loss: 7713\n",
      "epoch: 870, f1_train: 0.23628780394529897, f1_val: 0.2451985450644835, loss: 7728\n",
      "epoch: 880, f1_train: 0.23973146567258827, f1_val: 0.24690960318741165, loss: 7683\n",
      "epoch: 890, f1_train: 0.24044175934405623, f1_val: 0.2472565309763677, loss: 7683\n",
      "epoch: 900, f1_train: 0.24251732890039723, f1_val: 0.24722137430810925, loss: 7700\n",
      "epoch: 910, f1_train: 0.2449527139996272, f1_val: 0.24847118566407056, loss: 7703\n",
      "epoch: 920, f1_train: 0.24586379060897817, f1_val: 0.2507287705345638, loss: 7702\n",
      "epoch: 930, f1_train: 0.24864311498658437, f1_val: 0.24834834297200814, loss: 7678\n",
      "epoch: 940, f1_train: 0.2514435904699185, f1_val: 0.2503988322736148, loss: 7672\n",
      "epoch: 950, f1_train: 0.25136802152773124, f1_val: 0.2492249588235131, loss: 7755\n",
      "epoch: 960, f1_train: 0.2531585734072965, f1_val: 0.24621929347396987, loss: 7673\n",
      "epoch: 970, f1_train: 0.25495537820737313, f1_val: 0.24131193202524365, loss: 7684\n",
      "epoch: 980, f1_train: 0.25337780343296235, f1_val: 0.24303546499172032, loss: 7747\n",
      "epoch: 990, f1_train: 0.2542231545525132, f1_val: 0.2441479834474714, loss: 7736\n",
      "epoch: 1000, f1_train: 0.2560627335372443, f1_val: 0.24100060077908736, loss: 7678\n",
      "epoch: 1010, f1_train: 0.2578908005088921, f1_val: 0.24200074258843074, loss: 7655\n",
      "epoch: 1020, f1_train: 0.260514938642858, f1_val: 0.24302653823235465, loss: 7626\n",
      "epoch: 1030, f1_train: 0.26153514262193117, f1_val: 0.24309424888866155, loss: 7617\n",
      "epoch: 1040, f1_train: 0.26213791134860964, f1_val: 0.24234353999550068, loss: 7594\n",
      "epoch: 1050, f1_train: 0.26200355668028086, f1_val: 0.24387600799043185, loss: 7591\n",
      "epoch: 1060, f1_train: 0.26198748456719095, f1_val: 0.24399159016913233, loss: 7611\n",
      "epoch: 1070, f1_train: 0.26188340586423087, f1_val: 0.2434119002688072, loss: 7662\n",
      "epoch: 1080, f1_train: 0.26188340586423087, f1_val: 0.2416042409274527, loss: 7662\n",
      "epoch: 1090, f1_train: 0.2629689287139291, f1_val: 0.23935970793248174, loss: 7629\n",
      "epoch: 1100, f1_train: 0.2628944963807036, f1_val: 0.23941963403577282, loss: 7618\n",
      "epoch: 1110, f1_train: 0.264697830739483, f1_val: 0.23707610634757925, loss: 7555\n",
      "epoch: 1120, f1_train: 0.2657813039959662, f1_val: 0.23557364140484688, loss: 7511\n",
      "epoch: 1130, f1_train: 0.2676260860805587, f1_val: 0.23720709933373568, loss: 7433\n",
      "epoch: 1140, f1_train: 0.26949600054324796, f1_val: 0.2347923954074509, loss: 7313\n",
      "epoch: 1150, f1_train: 0.2705555634106914, f1_val: 0.23573082359618464, loss: 7261\n",
      "epoch: 1160, f1_train: 0.27147803420045113, f1_val: 0.23679654573408088, loss: 7211\n",
      "epoch: 1170, f1_train: 0.27245105384811263, f1_val: 0.23612415840366624, loss: 7145\n",
      "epoch: 1180, f1_train: 0.2724469793321702, f1_val: 0.23709743278718615, loss: 7150\n",
      "epoch: 1190, f1_train: 0.27243193446686964, f1_val: 0.23640692423227255, loss: 7165\n",
      "epoch: 1200, f1_train: 0.2741075276732312, f1_val: 0.23558954691912892, loss: 7162\n",
      "epoch: 1210, f1_train: 0.273911338095701, f1_val: 0.23828571918227115, loss: 7213\n",
      "epoch: 1220, f1_train: 0.27449876827325076, f1_val: 0.2367098776635055, loss: 7200\n",
      "epoch: 1230, f1_train: 0.2737116467933124, f1_val: 0.23593675512611134, loss: 7173\n",
      "epoch: 1240, f1_train: 0.2757136828902408, f1_val: 0.2335623712387626, loss: 7118\n",
      "epoch: 1250, f1_train: 0.27740346506527774, f1_val: 0.23450112789428146, loss: 7110\n",
      "epoch: 1260, f1_train: 0.279960093835561, f1_val: 0.23629976751386889, loss: 6993\n",
      "epoch: 1270, f1_train: 0.2805259305781688, f1_val: 0.23567206470119573, loss: 7015\n",
      "epoch: 1280, f1_train: 0.281088979312328, f1_val: 0.2367008226804428, loss: 7003\n",
      "epoch: 1290, f1_train: 0.28232209849960543, f1_val: 0.23755716686754033, loss: 6937\n",
      "epoch: 1300, f1_train: 0.2837775039323075, f1_val: 0.23607305595650085, loss: 6910\n",
      "epoch: 1310, f1_train: 0.2845854753783086, f1_val: 0.23771952440872413, loss: 6850\n",
      "epoch: 1320, f1_train: 0.2861386016150935, f1_val: 0.23783917546319064, loss: 6763\n",
      "epoch: 1330, f1_train: 0.2860611977349855, f1_val: 0.23800286695087375, loss: 6752\n",
      "epoch: 1340, f1_train: 0.2824865378885198, f1_val: 0.2364544476213332, loss: 6656\n",
      "epoch: 1350, f1_train: 0.2858613789777623, f1_val: 0.2364956267575738, loss: 6667\n",
      "epoch: 1360, f1_train: 0.2891593832069505, f1_val: 0.23659205612164036, loss: 6582\n",
      "epoch: 1370, f1_train: 0.2907068734441748, f1_val: 0.24009199892004546, loss: 6557\n",
      "epoch: 1380, f1_train: 0.28786083491101633, f1_val: 0.24006214580192992, loss: 6564\n",
      "epoch: 1390, f1_train: 0.28837927982651457, f1_val: 0.24006214580192992, loss: 6584\n",
      "epoch: 1400, f1_train: 0.2848435576411573, f1_val: 0.23852287541966705, loss: 6600\n",
      "epoch: 1410, f1_train: 0.28547545831377463, f1_val: 0.23852287541966705, loss: 6551\n",
      "epoch: 1420, f1_train: 0.2862578239249955, f1_val: 0.23861989949010046, loss: 6527\n",
      "epoch: 1430, f1_train: 0.2887420261357565, f1_val: 0.23871949096949818, loss: 6489\n",
      "epoch: 1440, f1_train: 0.289594653607324, f1_val: 0.23889706189138005, loss: 6465\n",
      "epoch: 1450, f1_train: 0.2885023807158319, f1_val: 0.23889706189138005, loss: 6460\n",
      "epoch: 1460, f1_train: 0.28819991926829747, f1_val: 0.23889706189138005, loss: 6496\n",
      "epoch: 1470, f1_train: 0.28796386346644715, f1_val: 0.2371974299475603, loss: 6491\n",
      "epoch: 1480, f1_train: 0.2886123251419612, f1_val: 0.23738014351694178, loss: 6475\n",
      "epoch: 1490, f1_train: 0.28935844491216595, f1_val: 0.23575050878075854, loss: 6460\n",
      "epoch: 1500, f1_train: 0.2916205398455478, f1_val: 0.23414044294258213, loss: 6407\n"
     ]
    }
   ],
   "source": [
    "nn = NeuralNetwork(len(selected_features), 50, 8, lr=0.001)\n",
    "\n",
    "y_emotions_train_1_hot = np.zeros((len(y_emotions_train), 8))\n",
    "y_emotions_test_1_hot = np.zeros((len(y_emotions_test), 8))\n",
    "y_emotions_val_1_hot = np.zeros((len(y_emotions_val), 8))\n",
    "\n",
    "for i, emotion in enumerate(np.unique(y_emotions_train)):\n",
    "    y_emotions_train_1_hot[y_emotions_train == emotion, i] = 1\n",
    "    y_emotions_test_1_hot[y_emotions_test == emotion, i] = 1\n",
    "    y_emotions_val_1_hot[y_emotions_val == emotion, i] = 1\n",
    "\n",
    "nn.train(X_emotions_train, y_emotions_train_1_hot, X_emotions_val, y_emotions_val_1_hot, epochs=1500)"
   ]
  },
  {
   "cell_type": "code",
   "execution_count": 100,
   "metadata": {
    "ExecuteTime": {
     "end_time": "2023-12-22T16:39:35.828520100Z",
     "start_time": "2023-12-22T16:39:35.777625700Z"
    },
    "collapsed": false
   },
   "outputs": [],
   "source": [
    "y_predict_test = nn.predict(X_emotions_test)\n",
    "y_predict_test = np.argmax(y_predict_test, axis=1)"
   ]
  },
  {
   "cell_type": "code",
   "execution_count": 101,
   "metadata": {
    "ExecuteTime": {
     "end_time": "2023-12-22T16:39:36.857494300Z",
     "start_time": "2023-12-22T16:39:36.605138600Z"
    },
    "collapsed": false
   },
   "outputs": [
    {
     "name": "stdout",
     "output_type": "stream",
     "text": [
      "predicted: angry     , true: angry     \n",
      "predicted: angry     , true: angry     \n",
      "predicted: angry     , true: calm      \n",
      "predicted: angry     , true: angry     \n",
      "predicted: angry     , true: angry     \n",
      "predicted: angry     , true: fearful   \n",
      "predicted: angry     , true: fearful   \n",
      "predicted: angry     , true: angry     \n",
      "predicted: angry     , true: calm      \n",
      "predicted: angry     , true: angry     \n"
     ]
    }
   ],
   "source": [
    "# back to original labels\n",
    "y_predict_test = np.array([np.unique(y_emotions_train)[i] for i in y_predict_test])\n",
    "for pred_v, true_v in zip(y_predict_test[:10], y_emotions_test[:10]):\n",
    "    print(f\"predicted: {pred_v:10}, true: {true_v:10}\")\n"
   ]
  },
  {
   "cell_type": "code",
   "execution_count": 102,
   "metadata": {
    "ExecuteTime": {
     "end_time": "2023-12-22T16:39:38.211111600Z",
     "start_time": "2023-12-22T16:39:37.835857600Z"
    },
    "collapsed": false
   },
   "outputs": [
    {
     "name": "stdout",
     "output_type": "stream",
     "text": [
      "Confusion matrix:\n",
      "\n",
      "0.105  0.002  0.000  0.024  0.008  0.000  0.014  0.000\n",
      "0.019  0.049  0.000  0.005  0.058  0.000  0.023  0.000\n",
      "0.035  0.000  0.000  0.005  0.008  0.000  0.029  0.000\n",
      "0.034  0.000  0.000  0.036  0.022  0.000  0.062  0.000\n",
      "0.004  0.016  0.000  0.006  0.120  0.000  0.008  0.000\n",
      "0.011  0.005  0.000  0.005  0.012  0.000  0.044  0.000\n",
      "0.028  0.031  0.000  0.011  0.019  0.000  0.065  0.000\n",
      "0.017  0.006  0.000  0.006  0.013  0.001  0.034  0.000\n",
      "Precision: 0.24, Recall: 0.30, F1: 0.26\n",
      "\n"
     ]
    },
    {
     "data": {
      "image/png": "[encoded data removed]",
      "text/plain": [
       "<Figure size 480x480 with 1 Axes>"
      ]
     },
     "metadata": {},
     "output_type": "display_data"
    }
   ],
   "source": [
    "# get the accuracy metrics\n",
    "cm, _, _, _ = calculate_accuracy_metrics(y_emotions_test, y_predict_test)\n",
    "plot_confusion_matrix(cm, y_emotions_test)"
   ]
  },
  {
   "cell_type": "code",
   "execution_count": 103,
   "metadata": {
    "ExecuteTime": {
     "end_time": "2023-12-22T16:39:39.850743700Z",
     "start_time": "2023-12-22T16:39:39.269686600Z"
    },
    "collapsed": false
   },
   "outputs": [
    {
     "data": {
      "text/plain": [
       "<matplotlib.legend.Legend at 0x18e371c4fd0>"
      ]
     },
     "execution_count": 103,
     "metadata": {},
     "output_type": "execute_result"
    },
    {
     "data": {
      "image/png": "[encoded data removed]",
      "text/plain": [
       "<Figure size 640x480 with 1 Axes>"
      ]
     },
     "metadata": {},
     "output_type": "display_data"
    }
   ],
   "source": [
    "# plot the log:\n",
    "x_train = nn.log[\"f1_train\"]\n",
    "x_val = nn.log[\"f1_val\"]\n",
    "\n",
    "y = np.arange(0, len(x_train) * 10, 10)\n",
    "plt.plot(y, x_train, label=\"train\")\n",
    "plt.plot(y, x_val, label=\"val\")\n",
    "plt.legend()"
   ]
  },
  {
   "cell_type": "markdown",
   "metadata": {},
   "source": [
    "Authors:\n",
    "\n",
    "Nace Sever\tuc2023158749@student.uc.pt\n",
    "\n",
    "José Pedro Namora Pereira Dias\tuc2023164985@student.uc.pt"
   ]
  }
 ],
 "metadata": {
  "kernelspec": {
   "display_name": "Python 3",
   "language": "python",
   "name": "python3"
  },
  "language_info": {
   "codemirror_mode": {
    "name": "ipython",
    "version": 2
   },
   "file_extension": ".py",
   "mimetype": "text/x-python",
   "name": "python",
   "nbconvert_exporter": "python",
   "pygments_lexer": "ipython2",
   "version": "3.12.0"
  }
 },
 "nbformat": 4,
 "nbformat_minor": 0
}
